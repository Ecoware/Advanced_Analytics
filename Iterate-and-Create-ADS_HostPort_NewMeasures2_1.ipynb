{
 "cells": [
  {
   "cell_type": "markdown",
   "metadata": {},
   "source": [
    "#  Iterate Destination Hosts and associated Ports, over time periods, to create multiple Analytical Data Sets &nbsp;&nbsp; (in Big Query)"
   ]
  },
  {
   "cell_type": "code",
   "execution_count": 14,
   "metadata": {
    "collapsed": false
   },
   "outputs": [
    {
     "data": {
      "text/plain": [
       "'2.7.9 (default, Jun 29 2016, 13:08:31) \\n[GCC 4.9.2]'"
      ]
     },
     "execution_count": 14,
     "metadata": {},
     "output_type": "execute_result"
    }
   ],
   "source": [
    "# use print only as a function\n",
    "from __future__ import print_function\n",
    "import sys\n",
    "sys.version"
   ]
  },
  {
   "cell_type": "markdown",
   "metadata": {},
   "source": [
    "## Connect to data and read into dataframe"
   ]
  },
  {
   "cell_type": "code",
   "execution_count": 15,
   "metadata": {
    "collapsed": false
   },
   "outputs": [],
   "source": [
    "__author__ = 'swe03'\n",
    "\n",
    "import numpy as np\n",
    "import pandas as pd\n",
    "import pandas.io.gbq as pdg\n",
    "import matplotlib.pylab as plt\n",
    "import matplotlib.pyplot as pplt\n",
    "from decimal import *\n",
    "import re \n",
    "\n",
    "%matplotlib inline\n",
    "from matplotlib.pylab import rcParams\n",
    "rcParams['figure.figsize'] = 15, 6\n",
    "\n",
    "from scipy import stats\n",
    "\n",
    "from datetime import datetime, timedelta\n",
    "\n",
    "desired_width = 250\n",
    "pd.set_option('display.width',desired_width)\n",
    "pd.set_option('display.max_rows', 500)"
   ]
  },
  {
   "cell_type": "markdown",
   "metadata": {},
   "source": [
    "###### Install the SQL package if not already installed "
   ]
  },
  {
   "cell_type": "code",
   "execution_count": 16,
   "metadata": {
    "collapsed": false
   },
   "outputs": [],
   "source": [
    "#!pip install pandasql"
   ]
  },
  {
   "cell_type": "code",
   "execution_count": 17,
   "metadata": {
    "collapsed": false
   },
   "outputs": [],
   "source": [
    "from pandasql import PandaSQL \n",
    "pdsql = PandaSQL()"
   ]
  },
  {
   "cell_type": "markdown",
   "metadata": {},
   "source": [
    "##### Use an existing table but change the timestamps to create a contiguous distribution."
   ]
  },
  {
   "cell_type": "code",
   "execution_count": 18,
   "metadata": {
    "collapsed": true
   },
   "outputs": [],
   "source": [
    "def Get_recs_w_date_range(date_s,date_e, addr):\n",
    "    \"\"\"Iterate through various date ranges to create the a timeframe sample for later aggregation\"\"\"\n",
    "    global dfx2   # Otherwise, dfx2 is considered Local and will not be global scope of the dataframe created above\n",
    "    query = \"\"\"SELECT Timestamp, src_addr, src_port, dst_addr, dst_port,\n",
    "                 cast(duration_ms as integer) as duration_ms,\n",
    "                 cast(bytes as integer) as bytes,\n",
    "                 protocol, flow_direction, tcp_flags \n",
    "               FROM ipfix.ipfix                \n",
    "               WHERE Timestamp BETWEEN timestamp('{}') AND timestamp('{}')\n",
    "                 AND dst_addr in ({})                  # single quotes unnecessary since the ip's are quoted in string \n",
    "               LIMIT 10 \"\"\".format(date_s,date_e,addr)\n",
    "               \n",
    "    #print('The value of local var date_s is: {}'.format(date_s))\n",
    "    #print('The value of local var date_e is: {}'.format(date_e))\n",
    "    print('The value of local var addr is: {}'.format(addr))\n",
    "    dfx1 = pd.read_gbq(query, project_id=\"network-sec-analytics\")\n",
    "    dfx2 = dfx2.append(dfx1)                                       # Append onto the dfx2 dataframe\n",
    "    return           "
   ]
  },
  {
   "cell_type": "code",
   "execution_count": 19,
   "metadata": {
    "collapsed": true
   },
   "outputs": [],
   "source": [
    "def Get_recs_w_date_range_lowgrain(date_s,date_e):\n",
    "    \"\"\"Iterate through various date ranges to create the a timeframe sample for later aggregation\"\"\"\n",
    "    global dfx2   # Otherwise, dfx2 is considered Local and will not be global scope of the dataframe created above\n",
    "    query = \"\"\"SELECT Timestamp, src_addr, src_port, dst_addr, dst_port,\n",
    "                 cast(duration_ms as integer) as duration_ms,\n",
    "                 cast(bytes as integer) as bytes,\n",
    "                 protocol, flow_direction, tcp_flags \n",
    "               FROM ipfix.ipfix                \n",
    "               WHERE Timestamp BETWEEN timestamp('{}') AND timestamp('{}')\n",
    "                 AND dst_addr in ('165.130.217.229') \n",
    "                 AND dst_port in ('443')\n",
    "                 AND src_addr in ('172.29.236.82')\"\"\".format(date_s,date_e)\n",
    "               \n",
    "    #print('The value of local var date_s is: {}'.format(date_s))\n",
    "    #print('The value of local var date_e is: {}'.format(date_e))\n",
    "    #print('The value of local var addr is: {}'.format(addr))\n",
    "    dfx1 = pd.read_gbq(query, project_id=\"network-sec-analytics\")\n",
    "    dfx2 = dfx2.append(dfx1)                                       # Append onto the dfx2 dataframe\n",
    "    return       "
   ]
  },
  {
   "cell_type": "code",
   "execution_count": 20,
   "metadata": {
    "collapsed": false
   },
   "outputs": [],
   "source": [
    "def Write_to_gbq(addr_port_s):\n",
    "  #model_addr_port = \"'\" + 'prod.' + addr_port_s + \"'\"\n",
    "  model_addr_port = 'prod.' + addr_port_s  \n",
    "  parm_str = pd.Series([model_addr_port]) \n",
    "  print(\"This is the parm str:\",parm_str)\n",
    "  \n",
    "  pdg.to_gbq(dfx2, model_addr_port, \"network-sec-analytics\", verbose=True, reauth=False, \n",
    "   if_exists='replace', private_key=None)\n",
    "\n",
    "  #dfx2.to_gbq(parm_str, \"network-sec-analytics\", verbose=True, reauth=False, \n",
    "   #if_exists='replace', private_key=None)\n",
    "  return"
   ]
  },
  {
   "cell_type": "code",
   "execution_count": 32,
   "metadata": {
    "collapsed": false
   },
   "outputs": [],
   "source": [
    "def Initialize_and_Iterate():\n",
    "  date_start = pd.to_datetime('2017-02-01 00:00:00')           # '2017-02-01 00:00:00'\n",
    "  date_end_interval   = pd.to_datetime('2017-02-01 01:00:00')  # '2017-02-01 10:59:59'\n",
    "  \n",
    "  while date_start <= pd.to_datetime(date_end_interval):\n",
    "    date_end = date_start + timedelta(minutes=59,seconds=59)   # Set the datetime end of the hour interval\n",
    "    print('For get_recs function date_start=',date_start)\n",
    "    print('For get_recs function date_end=',date_end)\n",
    "    \n",
    "    Get_recs_w_date_range(date_start,date_end,out_str) # Extract the query Limit above within the specified hour  \n",
    "    \n",
    "    date_start = date_end + timedelta(seconds=1)           # Add a second to the nn:59:59 end date to start the next # hour on nn:00:00 start time\n",
    "  \n",
    "  return      "
   ]
  },
  {
   "cell_type": "code",
   "execution_count": 30,
   "metadata": {
    "collapsed": true
   },
   "outputs": [],
   "source": [
    "def Initialize_and_Iterate_lowgrain():\n",
    "  date_start = pd.to_datetime('2017-02-01 00:00:00')           # '2017-02-01 00:00:00'\n",
    "  date_end_interval   = pd.to_datetime('2017-02-01 01:00:00')  # '2017-02-01 10:59:59'\n",
    "  \n",
    "  while date_start <= pd.to_datetime(date_end_interval):\n",
    "    date_end = date_start + timedelta(minutes=59,seconds=59)   # Set the datetime end of the hour interval\n",
    "    print('For get_recs function date_start=',date_start)\n",
    "    print('For get_recs function date_end=',date_end)\n",
    "    \n",
    "    Get_recs_w_date_range_lowgrain(date_start,date_end) # Extract the query Limit above within the specified hour  \n",
    "    \n",
    "    date_start = date_end + timedelta(seconds=1)            \n",
    "                                                            \n",
    "  return      "
   ]
  },
  {
   "cell_type": "code",
   "execution_count": 23,
   "metadata": {
    "collapsed": true
   },
   "outputs": [],
   "source": [
    "def Create_date_hour():\n",
    "  global dfx2\n",
    "  dfx2['duration_ms'].fillna(0, inplace=True)\n",
    "  dfx2['date_hour'] = dfx2.Timestamp.dt.strftime('%Y-%m-%d-%H')  # This works and creates a Series with Date and Hour\n",
    "  dfx2['date_hour'] = pd.to_datetime(dfx2['date_hour'] )\n",
    "  dfx2.reset_index(drop=True, inplace=True)\n",
    "  return "
   ]
  },
  {
   "cell_type": "markdown",
   "metadata": {},
   "source": [
    "### Initiate the Process"
   ]
  },
  {
   "cell_type": "markdown",
   "metadata": {},
   "source": [
    "##### Read the specific Host Segments reference table from BQ"
   ]
  },
  {
   "cell_type": "code",
   "execution_count": 24,
   "metadata": {
    "collapsed": false
   },
   "outputs": [
    {
     "name": "stdout",
     "output_type": "stream",
     "text": [
      "Requesting query... ok.\n",
      "Query running...\n",
      "Query done.\n",
      "Processed: 98.0 b\n",
      "\n",
      "Retrieving results...\n",
      "Got 3 rows.\n",
      "\n",
      "Total time taken 1.09 s.\n",
      "Finished at 2017-04-14 19:19:19.\n"
     ]
    }
   ],
   "source": [
    "## This function accomplishes both: 1. Creating an enumerated list of Host Segments to be sent to the Get_recs... function and\n",
    "##                                  2. Parsing the text strings to enable generating the enumerated list\n",
    "def read_in_host_segments():\n",
    "  global out\n",
    "  host_segs = pd.read_gbq(\"select Host_Range_Start, Host_Range_End from reference.Host_Segments\", project_id=\"network-sec-analytics\")\n",
    "  host_start = host_segs.Host_Range_Start.str.split('.',expand=True).astype(int)  # This creates a DF.  type(host_start)\n",
    "  host_end = host_segs.Host_Range_End.str.split('.',expand=True).astype(int)  # This creates a DF.  type(host_end)\n",
    "  host_start2 = host_segs.join(host_start[3])   # Join the host_seg table with just the last component of the address as int\n",
    "  host_start2 = host_start2.join(host_end[3],rsuffix='E') # Join to get the host range end value\n",
    "  host_start2.rename(columns={\"3\":\"start\",\"3E\":\"end\"},inplace=True) \n",
    "  host_start2.replace(to_replace='\\w+$', value=' ', inplace=True, limit=None, regex=True, method='pad', axis=None) # place a blank in the last addr component\n",
    "  \n",
    "  temp_list = []\n",
    "  end_str = ''\n",
    "  for index, row in host_start2.iterrows(): \n",
    "    counter = host_start2['start'][index]  # necessary to include index or will get \"truth value of a Series is ambiguous\"\n",
    "    last = host_start2['end'][index]\n",
    "  while counter <= last:\n",
    "    end_str = counter.astype(str)   ## counter retains int dtype\n",
    "    temp_dict = {'host': row.Host_Range_Start.strip() + end_str}\n",
    "    temp_list.append(temp_dict)\n",
    "    counter = counter + 1\n",
    "    \n",
    "  out = pd.DataFrame(temp_list)   ## Currently, this will overwrite each df and only retain the last record's df\n",
    "\n",
    "  return\n",
    "\n",
    "\n",
    "read_in_host_segments()"
   ]
  },
  {
   "cell_type": "code",
   "execution_count": 25,
   "metadata": {
    "codeCollapsed": false,
    "collapsed": false,
    "hiddenCell": true
   },
   "outputs": [
    {
     "data": {
      "text/html": [
       "<div>\n",
       "<table border=\"1\" class=\"dataframe\">\n",
       "  <thead>\n",
       "    <tr style=\"text-align: right;\">\n",
       "      <th></th>\n",
       "      <th>host</th>\n",
       "    </tr>\n",
       "  </thead>\n",
       "  <tbody>\n",
       "    <tr>\n",
       "      <th>0</th>\n",
       "      <td>165.130.217.225</td>\n",
       "    </tr>\n",
       "    <tr>\n",
       "      <th>1</th>\n",
       "      <td>165.130.217.226</td>\n",
       "    </tr>\n",
       "    <tr>\n",
       "      <th>2</th>\n",
       "      <td>165.130.217.227</td>\n",
       "    </tr>\n",
       "    <tr>\n",
       "      <th>3</th>\n",
       "      <td>165.130.217.228</td>\n",
       "    </tr>\n",
       "    <tr>\n",
       "      <th>4</th>\n",
       "      <td>165.130.217.229</td>\n",
       "    </tr>\n",
       "    <tr>\n",
       "      <th>5</th>\n",
       "      <td>165.130.217.230</td>\n",
       "    </tr>\n",
       "    <tr>\n",
       "      <th>6</th>\n",
       "      <td>165.130.217.231</td>\n",
       "    </tr>\n",
       "    <tr>\n",
       "      <th>7</th>\n",
       "      <td>165.130.217.232</td>\n",
       "    </tr>\n",
       "    <tr>\n",
       "      <th>8</th>\n",
       "      <td>165.130.217.233</td>\n",
       "    </tr>\n",
       "    <tr>\n",
       "      <th>9</th>\n",
       "      <td>165.130.217.234</td>\n",
       "    </tr>\n",
       "    <tr>\n",
       "      <th>10</th>\n",
       "      <td>165.130.217.235</td>\n",
       "    </tr>\n",
       "    <tr>\n",
       "      <th>11</th>\n",
       "      <td>165.130.217.236</td>\n",
       "    </tr>\n",
       "    <tr>\n",
       "      <th>12</th>\n",
       "      <td>165.130.217.237</td>\n",
       "    </tr>\n",
       "    <tr>\n",
       "      <th>13</th>\n",
       "      <td>165.130.217.238</td>\n",
       "    </tr>\n",
       "  </tbody>\n",
       "</table>\n",
       "</div>"
      ],
      "text/plain": [
       "               host\n",
       "0   165.130.217.225\n",
       "1   165.130.217.226\n",
       "2   165.130.217.227\n",
       "3   165.130.217.228\n",
       "4   165.130.217.229\n",
       "5   165.130.217.230\n",
       "6   165.130.217.231\n",
       "7   165.130.217.232\n",
       "8   165.130.217.233\n",
       "9   165.130.217.234\n",
       "10  165.130.217.235\n",
       "11  165.130.217.236\n",
       "12  165.130.217.237\n",
       "13  165.130.217.238"
      ]
     },
     "execution_count": 25,
     "metadata": {},
     "output_type": "execute_result"
    }
   ],
   "source": [
    "out"
   ]
  },
  {
   "cell_type": "code",
   "execution_count": 26,
   "metadata": {
    "collapsed": false
   },
   "outputs": [],
   "source": [
    "out_array=out['host'].values\n",
    "#out_array\n",
    "for i in range(0, len(out_array)):\n",
    "  if i == 0:\n",
    "    out_str = \"'\" + out_array[i] + \"'\" + \",\"\n",
    "  else:\n",
    "    if i == (len(out_array)-1):\n",
    "      out_str += \"'\" + out_array[i] + \"'\" \n",
    "    else:\n",
    "      out_str += \"'\" + out_array[i] + \"',\""
   ]
  },
  {
   "cell_type": "code",
   "execution_count": 27,
   "metadata": {
    "collapsed": false
   },
   "outputs": [
    {
     "name": "stdout",
     "output_type": "stream",
     "text": [
      "'165.130.217.225','165.130.217.226','165.130.217.227','165.130.217.228','165.130.217.229','165.130.217.230','165.130.217.231','165.130.217.232','165.130.217.233','165.130.217.234','165.130.217.235','165.130.217.236','165.130.217.237','165.130.217.238'\n"
     ]
    }
   ],
   "source": [
    "#print(out_str)\n",
    "#out_str = out_str + ',' + '165.130.1.9'\n",
    "print(out_str)"
   ]
  },
  {
   "cell_type": "markdown",
   "metadata": {},
   "source": [
    "##### Call the functions"
   ]
  },
  {
   "cell_type": "code",
   "execution_count": 33,
   "metadata": {
    "codeCollapsed": false,
    "collapsed": false,
    "hiddenCell": false
   },
   "outputs": [
    {
     "name": "stdout",
     "output_type": "stream",
     "text": [
      "For get_recs function date_start= 2017-02-01 00:00:00\n",
      "For get_recs function date_end= 2017-02-01 00:59:59\n",
      "The value of local var addr is: '165.130.217.225','165.130.217.226','165.130.217.227','165.130.217.228','165.130.217.229','165.130.217.230','165.130.217.231','165.130.217.232','165.130.217.233','165.130.217.234','165.130.217.235','165.130.217.236','165.130.217.237','165.130.217.238'\n",
      "Requesting query... ok.\n",
      "Query running...\n",
      "Query done.\n",
      "Processed: 69.9 Gb\n",
      "\n",
      "Retrieving results...\n",
      "Got 10 rows.\n",
      "\n",
      "Total time taken 2.56 s.\n",
      "Finished at 2017-04-14 19:24:57.\n",
      "For get_recs function date_start= 2017-02-01 01:00:00\n",
      "For get_recs function date_end= 2017-02-01 01:59:59\n",
      "The value of local var addr is: '165.130.217.225','165.130.217.226','165.130.217.227','165.130.217.228','165.130.217.229','165.130.217.230','165.130.217.231','165.130.217.232','165.130.217.233','165.130.217.234','165.130.217.235','165.130.217.236','165.130.217.237','165.130.217.238'\n",
      "Requesting query... ok.\n",
      "Query running...\n",
      "Query done.\n",
      "Processed: 69.9 Gb\n",
      "\n",
      "Retrieving results...\n",
      "Got 10 rows.\n",
      "\n",
      "Total time taken 1.99 s.\n",
      "Finished at 2017-04-14 19:24:59.\n"
     ]
    }
   ],
   "source": [
    "#global i \n",
    "#n = 2\n",
    "#del dfx2\n",
    "#for i in range(0, n):                # Set n to be the n number of addr/port ads's to create\n",
    "dfx2 = pd.DataFrame()              # Create the df that will be appended to for each timeframe\n",
    "Initialize_and_Iterate()           # For each Host/Port, iterate through the timeframes \n",
    "Create_date_hour()                 # Create a Day/Hour variable for the final, appended df\n",
    "  #del dfx2                           # df has been written to BQ so now delete it"
   ]
  },
  {
   "cell_type": "code",
   "execution_count": null,
   "metadata": {
    "codeCollapsed": false,
    "collapsed": false,
    "hiddenCell": false
   },
   "outputs": [],
   "source": [
    "#dfx2 = pd.DataFrame()              # Create the df that will be appended to for each timeframe\n",
    "#Initialize_and_Iterate_lowgrain()           # For each Host/Port, iterate through the timeframes \n",
    "#Create_date_hour()                 # Create a Day/Hour variable for the final, appended df"
   ]
  },
  {
   "cell_type": "code",
   "execution_count": 35,
   "metadata": {
    "collapsed": false
   },
   "outputs": [
    {
     "data": {
      "text/html": [
       "<div>\n",
       "<table border=\"1\" class=\"dataframe\">\n",
       "  <thead>\n",
       "    <tr style=\"text-align: right;\">\n",
       "      <th></th>\n",
       "      <th>Timestamp</th>\n",
       "      <th>src_addr</th>\n",
       "      <th>src_port</th>\n",
       "      <th>dst_addr</th>\n",
       "      <th>dst_port</th>\n",
       "      <th>duration_ms</th>\n",
       "      <th>bytes</th>\n",
       "      <th>protocol</th>\n",
       "      <th>flow_direction</th>\n",
       "      <th>tcp_flags</th>\n",
       "      <th>date_hour</th>\n",
       "    </tr>\n",
       "  </thead>\n",
       "  <tbody>\n",
       "    <tr>\n",
       "      <th>1</th>\n",
       "      <td>2017-02-01 00:16:06</td>\n",
       "      <td>172.29.236.82</td>\n",
       "      <td>45588</td>\n",
       "      <td>165.130.217.229</td>\n",
       "      <td>443</td>\n",
       "      <td>7.0</td>\n",
       "      <td>1001</td>\n",
       "      <td>tcp</td>\n",
       "      <td>None</td>\n",
       "      <td>[FS.PA...]</td>\n",
       "      <td>2017-02-01 00:00:00</td>\n",
       "    </tr>\n",
       "    <tr>\n",
       "      <th>0</th>\n",
       "      <td>2017-02-01 00:07:30</td>\n",
       "      <td>172.29.237.82</td>\n",
       "      <td>6981</td>\n",
       "      <td>165.130.217.230</td>\n",
       "      <td>443</td>\n",
       "      <td>49.0</td>\n",
       "      <td>3000</td>\n",
       "      <td>tcp</td>\n",
       "      <td>None</td>\n",
       "      <td>[FS.PA...]</td>\n",
       "      <td>2017-02-01 00:00:00</td>\n",
       "    </tr>\n",
       "    <tr>\n",
       "      <th>2</th>\n",
       "      <td>2017-02-01 00:33:12</td>\n",
       "      <td>172.29.236.82</td>\n",
       "      <td>28261</td>\n",
       "      <td>165.130.217.230</td>\n",
       "      <td>443</td>\n",
       "      <td>7.0</td>\n",
       "      <td>1001</td>\n",
       "      <td>tcp</td>\n",
       "      <td>None</td>\n",
       "      <td>[FS.PA...]</td>\n",
       "      <td>2017-02-01 00:00:00</td>\n",
       "    </tr>\n",
       "    <tr>\n",
       "      <th>3</th>\n",
       "      <td>2017-02-01 00:52:49</td>\n",
       "      <td>172.29.236.82</td>\n",
       "      <td>16346</td>\n",
       "      <td>165.130.217.230</td>\n",
       "      <td>443</td>\n",
       "      <td>7.0</td>\n",
       "      <td>1001</td>\n",
       "      <td>tcp</td>\n",
       "      <td>None</td>\n",
       "      <td>[FS.PA...]</td>\n",
       "      <td>2017-02-01 00:00:00</td>\n",
       "    </tr>\n",
       "    <tr>\n",
       "      <th>8</th>\n",
       "      <td>2017-02-01 00:43:28</td>\n",
       "      <td>172.29.237.82</td>\n",
       "      <td>36679</td>\n",
       "      <td>165.130.217.230</td>\n",
       "      <td>443</td>\n",
       "      <td>6.0</td>\n",
       "      <td>2002</td>\n",
       "      <td>tcp</td>\n",
       "      <td>None</td>\n",
       "      <td>[FS.PA...]</td>\n",
       "      <td>2017-02-01 00:00:00</td>\n",
       "    </tr>\n",
       "    <tr>\n",
       "      <th>9</th>\n",
       "      <td>2017-02-01 00:08:15</td>\n",
       "      <td>172.29.237.82</td>\n",
       "      <td>58667</td>\n",
       "      <td>165.130.217.230</td>\n",
       "      <td>443</td>\n",
       "      <td>40658.0</td>\n",
       "      <td>720</td>\n",
       "      <td>tcp</td>\n",
       "      <td>None</td>\n",
       "      <td>[..R.A...]</td>\n",
       "      <td>2017-02-01 00:00:00</td>\n",
       "    </tr>\n",
       "    <tr>\n",
       "      <th>4</th>\n",
       "      <td>2017-02-01 00:46:48</td>\n",
       "      <td>172.29.237.82</td>\n",
       "      <td>2381</td>\n",
       "      <td>165.130.217.231</td>\n",
       "      <td>443</td>\n",
       "      <td>22697.0</td>\n",
       "      <td>640</td>\n",
       "      <td>tcp</td>\n",
       "      <td>None</td>\n",
       "      <td>[..R.A...]</td>\n",
       "      <td>2017-02-01 00:00:00</td>\n",
       "    </tr>\n",
       "    <tr>\n",
       "      <th>5</th>\n",
       "      <td>2017-02-01 00:54:40</td>\n",
       "      <td>172.29.236.82</td>\n",
       "      <td>19986</td>\n",
       "      <td>165.130.217.231</td>\n",
       "      <td>443</td>\n",
       "      <td>8.0</td>\n",
       "      <td>961</td>\n",
       "      <td>tcp</td>\n",
       "      <td>None</td>\n",
       "      <td>[FS.PA...]</td>\n",
       "      <td>2017-02-01 00:00:00</td>\n",
       "    </tr>\n",
       "    <tr>\n",
       "      <th>6</th>\n",
       "      <td>2017-02-01 00:32:23</td>\n",
       "      <td>172.29.236.82</td>\n",
       "      <td>8978</td>\n",
       "      <td>165.130.217.231</td>\n",
       "      <td>443</td>\n",
       "      <td>13.0</td>\n",
       "      <td>1273</td>\n",
       "      <td>tcp</td>\n",
       "      <td>None</td>\n",
       "      <td>[FS.PA...]</td>\n",
       "      <td>2017-02-01 00:00:00</td>\n",
       "    </tr>\n",
       "    <tr>\n",
       "      <th>7</th>\n",
       "      <td>2017-02-01 00:39:28</td>\n",
       "      <td>151.140.78.211</td>\n",
       "      <td>9997</td>\n",
       "      <td>165.130.217.235</td>\n",
       "      <td>50218</td>\n",
       "      <td>271.0</td>\n",
       "      <td>88</td>\n",
       "      <td>tcp</td>\n",
       "      <td>None</td>\n",
       "      <td>[FS..A...]</td>\n",
       "      <td>2017-02-01 00:00:00</td>\n",
       "    </tr>\n",
       "    <tr>\n",
       "      <th>11</th>\n",
       "      <td>2017-02-01 01:22:49</td>\n",
       "      <td>165.130.1.9</td>\n",
       "      <td>53</td>\n",
       "      <td>165.130.217.228</td>\n",
       "      <td>57922</td>\n",
       "      <td>0.0</td>\n",
       "      <td>290</td>\n",
       "      <td>udp</td>\n",
       "      <td>None</td>\n",
       "      <td>[........]</td>\n",
       "      <td>2017-02-01 01:00:00</td>\n",
       "    </tr>\n",
       "    <tr>\n",
       "      <th>16</th>\n",
       "      <td>2017-02-01 01:22:18</td>\n",
       "      <td>172.29.237.82</td>\n",
       "      <td>64959</td>\n",
       "      <td>165.130.217.229</td>\n",
       "      <td>443</td>\n",
       "      <td>12.0</td>\n",
       "      <td>2546</td>\n",
       "      <td>tcp</td>\n",
       "      <td>None</td>\n",
       "      <td>[FS.PA...]</td>\n",
       "      <td>2017-02-01 01:00:00</td>\n",
       "    </tr>\n",
       "    <tr>\n",
       "      <th>19</th>\n",
       "      <td>2017-02-01 01:47:26</td>\n",
       "      <td>172.29.236.82</td>\n",
       "      <td>54466</td>\n",
       "      <td>165.130.217.229</td>\n",
       "      <td>443</td>\n",
       "      <td>48096.0</td>\n",
       "      <td>360</td>\n",
       "      <td>tcp</td>\n",
       "      <td>None</td>\n",
       "      <td>[..R.A...]</td>\n",
       "      <td>2017-02-01 01:00:00</td>\n",
       "    </tr>\n",
       "    <tr>\n",
       "      <th>12</th>\n",
       "      <td>2017-02-01 01:24:20</td>\n",
       "      <td>172.29.237.82</td>\n",
       "      <td>21917</td>\n",
       "      <td>165.130.217.230</td>\n",
       "      <td>443</td>\n",
       "      <td>26030.0</td>\n",
       "      <td>720</td>\n",
       "      <td>tcp</td>\n",
       "      <td>None</td>\n",
       "      <td>[..R.A...]</td>\n",
       "      <td>2017-02-01 01:00:00</td>\n",
       "    </tr>\n",
       "    <tr>\n",
       "      <th>15</th>\n",
       "      <td>2017-02-01 01:01:27</td>\n",
       "      <td>172.29.236.82</td>\n",
       "      <td>58386</td>\n",
       "      <td>165.130.217.230</td>\n",
       "      <td>443</td>\n",
       "      <td>4.0</td>\n",
       "      <td>817</td>\n",
       "      <td>tcp</td>\n",
       "      <td>None</td>\n",
       "      <td>[FS.PA...]</td>\n",
       "      <td>2017-02-01 01:00:00</td>\n",
       "    </tr>\n",
       "    <tr>\n",
       "      <th>17</th>\n",
       "      <td>2017-02-01 01:24:46</td>\n",
       "      <td>172.29.237.82</td>\n",
       "      <td>25407</td>\n",
       "      <td>165.130.217.230</td>\n",
       "      <td>443</td>\n",
       "      <td>3.0</td>\n",
       "      <td>1634</td>\n",
       "      <td>tcp</td>\n",
       "      <td>None</td>\n",
       "      <td>[FS.PA...]</td>\n",
       "      <td>2017-02-01 01:00:00</td>\n",
       "    </tr>\n",
       "    <tr>\n",
       "      <th>10</th>\n",
       "      <td>2017-02-01 01:03:06</td>\n",
       "      <td>172.29.237.82</td>\n",
       "      <td>16685</td>\n",
       "      <td>165.130.217.231</td>\n",
       "      <td>443</td>\n",
       "      <td>8.0</td>\n",
       "      <td>2002</td>\n",
       "      <td>tcp</td>\n",
       "      <td>None</td>\n",
       "      <td>[FS.PA...]</td>\n",
       "      <td>2017-02-01 01:00:00</td>\n",
       "    </tr>\n",
       "    <tr>\n",
       "      <th>13</th>\n",
       "      <td>2017-02-01 01:59:18</td>\n",
       "      <td>172.29.237.82</td>\n",
       "      <td>37588</td>\n",
       "      <td>165.130.217.231</td>\n",
       "      <td>443</td>\n",
       "      <td>38316.0</td>\n",
       "      <td>720</td>\n",
       "      <td>tcp</td>\n",
       "      <td>None</td>\n",
       "      <td>[..R.A...]</td>\n",
       "      <td>2017-02-01 01:00:00</td>\n",
       "    </tr>\n",
       "    <tr>\n",
       "      <th>14</th>\n",
       "      <td>2017-02-01 01:39:26</td>\n",
       "      <td>172.29.237.82</td>\n",
       "      <td>63596</td>\n",
       "      <td>165.130.217.231</td>\n",
       "      <td>443</td>\n",
       "      <td>7.0</td>\n",
       "      <td>2002</td>\n",
       "      <td>tcp</td>\n",
       "      <td>None</td>\n",
       "      <td>[FS.PA...]</td>\n",
       "      <td>2017-02-01 01:00:00</td>\n",
       "    </tr>\n",
       "    <tr>\n",
       "      <th>18</th>\n",
       "      <td>2017-02-01 01:51:58</td>\n",
       "      <td>172.29.236.82</td>\n",
       "      <td>12708</td>\n",
       "      <td>165.130.217.231</td>\n",
       "      <td>443</td>\n",
       "      <td>43297.0</td>\n",
       "      <td>360</td>\n",
       "      <td>tcp</td>\n",
       "      <td>None</td>\n",
       "      <td>[..R.A...]</td>\n",
       "      <td>2017-02-01 01:00:00</td>\n",
       "    </tr>\n",
       "  </tbody>\n",
       "</table>\n",
       "</div>"
      ],
      "text/plain": [
       "             Timestamp        src_addr src_port         dst_addr dst_port  duration_ms  bytes protocol flow_direction   tcp_flags           date_hour\n",
       "1  2017-02-01 00:16:06   172.29.236.82    45588  165.130.217.229      443          7.0   1001      tcp           None  [FS.PA...] 2017-02-01 00:00:00\n",
       "0  2017-02-01 00:07:30   172.29.237.82     6981  165.130.217.230      443         49.0   3000      tcp           None  [FS.PA...] 2017-02-01 00:00:00\n",
       "2  2017-02-01 00:33:12   172.29.236.82    28261  165.130.217.230      443          7.0   1001      tcp           None  [FS.PA...] 2017-02-01 00:00:00\n",
       "3  2017-02-01 00:52:49   172.29.236.82    16346  165.130.217.230      443          7.0   1001      tcp           None  [FS.PA...] 2017-02-01 00:00:00\n",
       "8  2017-02-01 00:43:28   172.29.237.82    36679  165.130.217.230      443          6.0   2002      tcp           None  [FS.PA...] 2017-02-01 00:00:00\n",
       "9  2017-02-01 00:08:15   172.29.237.82    58667  165.130.217.230      443      40658.0    720      tcp           None  [..R.A...] 2017-02-01 00:00:00\n",
       "4  2017-02-01 00:46:48   172.29.237.82     2381  165.130.217.231      443      22697.0    640      tcp           None  [..R.A...] 2017-02-01 00:00:00\n",
       "5  2017-02-01 00:54:40   172.29.236.82    19986  165.130.217.231      443          8.0    961      tcp           None  [FS.PA...] 2017-02-01 00:00:00\n",
       "6  2017-02-01 00:32:23   172.29.236.82     8978  165.130.217.231      443         13.0   1273      tcp           None  [FS.PA...] 2017-02-01 00:00:00\n",
       "7  2017-02-01 00:39:28  151.140.78.211     9997  165.130.217.235    50218        271.0     88      tcp           None  [FS..A...] 2017-02-01 00:00:00\n",
       "11 2017-02-01 01:22:49     165.130.1.9       53  165.130.217.228    57922          0.0    290      udp           None  [........] 2017-02-01 01:00:00\n",
       "16 2017-02-01 01:22:18   172.29.237.82    64959  165.130.217.229      443         12.0   2546      tcp           None  [FS.PA...] 2017-02-01 01:00:00\n",
       "19 2017-02-01 01:47:26   172.29.236.82    54466  165.130.217.229      443      48096.0    360      tcp           None  [..R.A...] 2017-02-01 01:00:00\n",
       "12 2017-02-01 01:24:20   172.29.237.82    21917  165.130.217.230      443      26030.0    720      tcp           None  [..R.A...] 2017-02-01 01:00:00\n",
       "15 2017-02-01 01:01:27   172.29.236.82    58386  165.130.217.230      443          4.0    817      tcp           None  [FS.PA...] 2017-02-01 01:00:00\n",
       "17 2017-02-01 01:24:46   172.29.237.82    25407  165.130.217.230      443          3.0   1634      tcp           None  [FS.PA...] 2017-02-01 01:00:00\n",
       "10 2017-02-01 01:03:06   172.29.237.82    16685  165.130.217.231      443          8.0   2002      tcp           None  [FS.PA...] 2017-02-01 01:00:00\n",
       "13 2017-02-01 01:59:18   172.29.237.82    37588  165.130.217.231      443      38316.0    720      tcp           None  [..R.A...] 2017-02-01 01:00:00\n",
       "14 2017-02-01 01:39:26   172.29.237.82    63596  165.130.217.231      443          7.0   2002      tcp           None  [FS.PA...] 2017-02-01 01:00:00\n",
       "18 2017-02-01 01:51:58   172.29.236.82    12708  165.130.217.231      443      43297.0    360      tcp           None  [..R.A...] 2017-02-01 01:00:00"
      ]
     },
     "execution_count": 35,
     "metadata": {},
     "output_type": "execute_result"
    }
   ],
   "source": [
    "dfx_s=dfx2.sort_values(['date_hour','dst_addr'],ascending=True)\n",
    "dfx_s"
   ]
  },
  {
   "cell_type": "markdown",
   "metadata": {},
   "source": [
    "### Create the Behaviorial Metrics (i.e., In-Degree Entropy measures)"
   ]
  },
  {
   "cell_type": "code",
   "execution_count": 76,
   "metadata": {
    "collapsed": false
   },
   "outputs": [
    {
     "data": {
      "text/plain": [
       "date_hour\n",
       "2017-02-01 00:00:00    10.0\n",
       "2017-02-01 01:00:00    10.0\n",
       "Name: dst_addr, dtype: float32"
      ]
     },
     "execution_count": 76,
     "metadata": {},
     "output_type": "execute_result"
    }
   ],
   "source": [
    "host_count = dfx_s.groupby(dfx_s['date_hour']).count()   ## This creates a dataframe\n",
    "host_count['dst_addr'] = pd.to_numeric(host_count['dst_addr'],downcast='float')   ## another way to conver is below\n",
    "host_count['dst_addr']"
   ]
  },
  {
   "cell_type": "code",
   "execution_count": null,
   "metadata": {
    "collapsed": false
   },
   "outputs": [],
   "source": [
    "unq_src_count=dfx_s.groupby(['date_hour','dst_addr']).src_addr.nunique()    ## This creates a Series\n",
    "unq_src_count[1]"
   ]
  },
  {
   "cell_type": "code",
   "execution_count": 62,
   "metadata": {
    "collapsed": false
   },
   "outputs": [
    {
     "data": {
      "text/plain": [
       "pandas.core.series.Series"
      ]
     },
     "execution_count": 62,
     "metadata": {},
     "output_type": "execute_result"
    }
   ],
   "source": [
    "type(unq_src_count)"
   ]
  },
  {
   "cell_type": "code",
   "execution_count": 75,
   "metadata": {
    "collapsed": false
   },
   "outputs": [
    {
     "data": {
      "text/plain": [
       "0    1.0\n",
       "1    2.0\n",
       "2    2.0\n",
       "3    1.0\n",
       "4    1.0\n",
       "5    2.0\n",
       "6    2.0\n",
       "7    2.0\n",
       "Name: src_addr, dtype: float64"
      ]
     },
     "execution_count": 75,
     "metadata": {},
     "output_type": "execute_result"
    }
   ],
   "source": [
    "unq_src_count_df = pdsql(\"\"\"Select * from unq_src_count u\"\"\", locals())   ## unq_src_count is a Series\n",
    "#type(unq_src_count_df)                                                    ## test is a Dataframe\n",
    "unq_src_count_df['src_addr'] = unq_src_count_df.src_addr.astype(float)\n",
    "unq_src_count_df['src_addr']                                              ## Dataframe has cols:  date_hour, dst_addr, \n",
    "                                                                          ## and src_addr (which are the unique counts)"
   ]
  },
  {
   "cell_type": "code",
   "execution_count": 85,
   "metadata": {
    "collapsed": false
   },
   "outputs": [
    {
     "name": "stdout",
     "output_type": "stream",
     "text": [
      "                    date_hour       dst_addr_s  src_addr  dst_addr  ent1\n",
      "0  2017-02-01 00:00:00.000000  165.130.217.229       1.0      10.0   0.1\n",
      "1  2017-02-01 00:00:00.000000  165.130.217.230       2.0      10.0   0.2\n",
      "2  2017-02-01 00:00:00.000000  165.130.217.231       2.0      10.0   0.2\n",
      "3  2017-02-01 00:00:00.000000  165.130.217.235       1.0      10.0   0.1\n",
      "4  2017-02-01 01:00:00.000000  165.130.217.228       1.0      10.0   0.1\n",
      "5  2017-02-01 01:00:00.000000  165.130.217.229       2.0      10.0   0.2\n",
      "6  2017-02-01 01:00:00.000000  165.130.217.230       2.0      10.0   0.2\n",
      "7  2017-02-01 01:00:00.000000  165.130.217.231       2.0      10.0   0.2\n"
     ]
    }
   ],
   "source": [
    "calc_ent1 = pdsql(\"\"\"SELECT s.date_hour, s.dst_addr as dst_addr_s, s.src_addr, i.dst_addr, (s.src_addr / i.dst_addr) as ent1 \n",
    "                  from host_count i join unq_src_count_df s\n",
    "                  on  i.date_hour = s.date_hour \n",
    "                  order by s.date_hour\"\"\",locals())\n",
    "print(calc_ent1)"
   ]
  },
  {
   "cell_type": "code",
   "execution_count": 86,
   "metadata": {
    "collapsed": false
   },
   "outputs": [
    {
     "data": {
      "text/html": [
       "<div>\n",
       "<table border=\"1\" class=\"dataframe\">\n",
       "  <thead>\n",
       "    <tr style=\"text-align: right;\">\n",
       "      <th></th>\n",
       "      <th>date_hour</th>\n",
       "      <th>dst_addr_s</th>\n",
       "      <th>src_addr</th>\n",
       "      <th>dst_addr</th>\n",
       "      <th>ent1</th>\n",
       "      <th>ln_ent1</th>\n",
       "    </tr>\n",
       "  </thead>\n",
       "  <tbody>\n",
       "    <tr>\n",
       "      <th>0</th>\n",
       "      <td>2017-02-01 00:00:00.000000</td>\n",
       "      <td>165.130.217.229</td>\n",
       "      <td>1.0</td>\n",
       "      <td>10.0</td>\n",
       "      <td>0.1</td>\n",
       "      <td>-2.302585</td>\n",
       "    </tr>\n",
       "    <tr>\n",
       "      <th>1</th>\n",
       "      <td>2017-02-01 00:00:00.000000</td>\n",
       "      <td>165.130.217.230</td>\n",
       "      <td>2.0</td>\n",
       "      <td>10.0</td>\n",
       "      <td>0.2</td>\n",
       "      <td>-1.609438</td>\n",
       "    </tr>\n",
       "    <tr>\n",
       "      <th>2</th>\n",
       "      <td>2017-02-01 00:00:00.000000</td>\n",
       "      <td>165.130.217.231</td>\n",
       "      <td>2.0</td>\n",
       "      <td>10.0</td>\n",
       "      <td>0.2</td>\n",
       "      <td>-1.609438</td>\n",
       "    </tr>\n",
       "    <tr>\n",
       "      <th>3</th>\n",
       "      <td>2017-02-01 00:00:00.000000</td>\n",
       "      <td>165.130.217.235</td>\n",
       "      <td>1.0</td>\n",
       "      <td>10.0</td>\n",
       "      <td>0.1</td>\n",
       "      <td>-2.302585</td>\n",
       "    </tr>\n",
       "    <tr>\n",
       "      <th>4</th>\n",
       "      <td>2017-02-01 01:00:00.000000</td>\n",
       "      <td>165.130.217.228</td>\n",
       "      <td>1.0</td>\n",
       "      <td>10.0</td>\n",
       "      <td>0.1</td>\n",
       "      <td>-2.302585</td>\n",
       "    </tr>\n",
       "    <tr>\n",
       "      <th>5</th>\n",
       "      <td>2017-02-01 01:00:00.000000</td>\n",
       "      <td>165.130.217.229</td>\n",
       "      <td>2.0</td>\n",
       "      <td>10.0</td>\n",
       "      <td>0.2</td>\n",
       "      <td>-1.609438</td>\n",
       "    </tr>\n",
       "    <tr>\n",
       "      <th>6</th>\n",
       "      <td>2017-02-01 01:00:00.000000</td>\n",
       "      <td>165.130.217.230</td>\n",
       "      <td>2.0</td>\n",
       "      <td>10.0</td>\n",
       "      <td>0.2</td>\n",
       "      <td>-1.609438</td>\n",
       "    </tr>\n",
       "    <tr>\n",
       "      <th>7</th>\n",
       "      <td>2017-02-01 01:00:00.000000</td>\n",
       "      <td>165.130.217.231</td>\n",
       "      <td>2.0</td>\n",
       "      <td>10.0</td>\n",
       "      <td>0.2</td>\n",
       "      <td>-1.609438</td>\n",
       "    </tr>\n",
       "  </tbody>\n",
       "</table>\n",
       "</div>"
      ],
      "text/plain": [
       "                    date_hour       dst_addr_s  src_addr  dst_addr  ent1   ln_ent1\n",
       "0  2017-02-01 00:00:00.000000  165.130.217.229       1.0      10.0   0.1 -2.302585\n",
       "1  2017-02-01 00:00:00.000000  165.130.217.230       2.0      10.0   0.2 -1.609438\n",
       "2  2017-02-01 00:00:00.000000  165.130.217.231       2.0      10.0   0.2 -1.609438\n",
       "3  2017-02-01 00:00:00.000000  165.130.217.235       1.0      10.0   0.1 -2.302585\n",
       "4  2017-02-01 01:00:00.000000  165.130.217.228       1.0      10.0   0.1 -2.302585\n",
       "5  2017-02-01 01:00:00.000000  165.130.217.229       2.0      10.0   0.2 -1.609438\n",
       "6  2017-02-01 01:00:00.000000  165.130.217.230       2.0      10.0   0.2 -1.609438\n",
       "7  2017-02-01 01:00:00.000000  165.130.217.231       2.0      10.0   0.2 -1.609438"
      ]
     },
     "execution_count": 86,
     "metadata": {},
     "output_type": "execute_result"
    }
   ],
   "source": [
    "calc_ent1['ln_ent1'] = np.log(calc_ent1['ent1'])\n",
    "calc_ent1"
   ]
  },
  {
   "cell_type": "code",
   "execution_count": 89,
   "metadata": {
    "collapsed": false
   },
   "outputs": [
    {
     "data": {
      "text/html": [
       "<div>\n",
       "<table border=\"1\" class=\"dataframe\">\n",
       "  <thead>\n",
       "    <tr style=\"text-align: right;\">\n",
       "      <th></th>\n",
       "      <th>date_hour</th>\n",
       "      <th>dst_addr_s</th>\n",
       "      <th>src_addr</th>\n",
       "      <th>dst_addr</th>\n",
       "      <th>ent1</th>\n",
       "      <th>ln_ent1</th>\n",
       "      <th>hx_ent</th>\n",
       "      <th>unq_dst_host_count</th>\n",
       "    </tr>\n",
       "  </thead>\n",
       "  <tbody>\n",
       "    <tr>\n",
       "      <th>0</th>\n",
       "      <td>2017-02-01 00:00:00.000000</td>\n",
       "      <td>165.130.217.235</td>\n",
       "      <td>1.0</td>\n",
       "      <td>10.0</td>\n",
       "      <td>0.1</td>\n",
       "      <td>-2.302585</td>\n",
       "      <td>-1.104292</td>\n",
       "      <td>4</td>\n",
       "    </tr>\n",
       "    <tr>\n",
       "      <th>1</th>\n",
       "      <td>2017-02-01 01:00:00.000000</td>\n",
       "      <td>165.130.217.231</td>\n",
       "      <td>2.0</td>\n",
       "      <td>10.0</td>\n",
       "      <td>0.2</td>\n",
       "      <td>-1.609438</td>\n",
       "      <td>-1.195921</td>\n",
       "      <td>4</td>\n",
       "    </tr>\n",
       "  </tbody>\n",
       "</table>\n",
       "</div>"
      ],
      "text/plain": [
       "                    date_hour       dst_addr_s  src_addr  dst_addr  ent1   ln_ent1    hx_ent  unq_dst_host_count\n",
       "0  2017-02-01 00:00:00.000000  165.130.217.235       1.0      10.0   0.1 -2.302585 -1.104292                   4\n",
       "1  2017-02-01 01:00:00.000000  165.130.217.231       2.0      10.0   0.2 -1.609438 -1.195921                   4"
      ]
     },
     "execution_count": 89,
     "metadata": {},
     "output_type": "execute_result"
    }
   ],
   "source": [
    "calc_ent2 = pdsql(\"\"\"SELECT i.*, sum(i.ent1 * i.ln_ent1) as hx_ent, count(dst_addr_s) as unq_dst_host_count\n",
    "                  from calc_ent1 i\n",
    "                  group by i.date_hour\n",
    "                  order by i.date_hour\"\"\",locals())\n",
    "calc_ent2"
   ]
  },
  {
   "cell_type": "code",
   "execution_count": 91,
   "metadata": {
    "collapsed": false
   },
   "outputs": [
    {
     "data": {
      "text/html": [
       "<div>\n",
       "<table border=\"1\" class=\"dataframe\">\n",
       "  <thead>\n",
       "    <tr style=\"text-align: right;\">\n",
       "      <th></th>\n",
       "      <th>date_hour</th>\n",
       "      <th>dst_addr_s</th>\n",
       "      <th>src_addr</th>\n",
       "      <th>dst_addr</th>\n",
       "      <th>ent1</th>\n",
       "      <th>ln_ent1</th>\n",
       "      <th>hx_ent</th>\n",
       "      <th>unq_dst_host_count</th>\n",
       "      <th>entropy</th>\n",
       "      <th>In_degree_entropy</th>\n",
       "    </tr>\n",
       "  </thead>\n",
       "  <tbody>\n",
       "    <tr>\n",
       "      <th>0</th>\n",
       "      <td>2017-02-01 00:00:00.000000</td>\n",
       "      <td>165.130.217.235</td>\n",
       "      <td>1.0</td>\n",
       "      <td>10.0</td>\n",
       "      <td>0.1</td>\n",
       "      <td>-2.302585</td>\n",
       "      <td>-1.104292</td>\n",
       "      <td>4</td>\n",
       "      <td>0.796578</td>\n",
       "      <td>0.796578</td>\n",
       "    </tr>\n",
       "    <tr>\n",
       "      <th>1</th>\n",
       "      <td>2017-02-01 01:00:00.000000</td>\n",
       "      <td>165.130.217.231</td>\n",
       "      <td>2.0</td>\n",
       "      <td>10.0</td>\n",
       "      <td>0.2</td>\n",
       "      <td>-1.609438</td>\n",
       "      <td>-1.195921</td>\n",
       "      <td>4</td>\n",
       "      <td>0.862675</td>\n",
       "      <td>0.862675</td>\n",
       "    </tr>\n",
       "  </tbody>\n",
       "</table>\n",
       "</div>"
      ],
      "text/plain": [
       "                    date_hour       dst_addr_s  src_addr  dst_addr  ent1   ln_ent1    hx_ent  unq_dst_host_count   entropy  In_degree_entropy\n",
       "0  2017-02-01 00:00:00.000000  165.130.217.235       1.0      10.0   0.1 -2.302585 -1.104292                   4  0.796578           0.796578\n",
       "1  2017-02-01 01:00:00.000000  165.130.217.231       2.0      10.0   0.2 -1.609438 -1.195921                   4  0.862675           0.862675"
      ]
     },
     "execution_count": 91,
     "metadata": {},
     "output_type": "execute_result"
    }
   ],
   "source": [
    "calc_ent2['In_degree_entropy'] = -(calc_ent2['hx_ent'] / np.log(calc_ent2['unq_dst_host_count']))\n",
    "calc_ent2"
   ]
  },
  {
   "cell_type": "code",
   "execution_count": null,
   "metadata": {
    "collapsed": true
   },
   "outputs": [],
   "source": [
    "##### Write the dataframe to BQ\n",
    "dfx2.to_gbq('prod.host_group2', \"network-sec-analytics\", verbose=True, reauth=False, \n",
    "   if_exists='replace', private_key=None)"
   ]
  },
  {
   "cell_type": "code",
   "execution_count": null,
   "metadata": {
    "collapsed": true
   },
   "outputs": [],
   "source": [
    "def create_unistats(group):\n",
    "    return {'min': group.min(), 'max': group.max(), 'count': group.count(), 'mean': group.mean()}\n",
    "  \n",
    "# These are DataFrames\n",
    "bytes_dist = dfx2['bytes'].groupby([dfx2['date_hour'],   \n",
    "                                  dfx2['dst_port']]).apply(create_unistats).unstack().reset_index()\n",
    "bytes_dist = bytes_dist[(bytes_dist['dst_port']==53) ]   # all stats are displayed for just port 53\n",
    "\n",
    "duration_dist = dfx2['duration_ms'].groupby([dfx2['date_hour'],   \n",
    "                                  dfx2['dst_port']]).apply(create_unistats).unstack().reset_index()"
   ]
  }
 ],
 "metadata": {
  "anaconda-cloud": {},
  "kernelspec": {
   "display_name": "Python 2",
   "language": "python",
   "name": "python2"
  },
  "language_info": {
   "codemirror_mode": {
    "name": "ipython",
    "version": 2
   },
   "file_extension": ".py",
   "mimetype": "text/x-python",
   "name": "python",
   "nbconvert_exporter": "python",
   "pygments_lexer": "ipython2",
   "version": "2.7.9"
  }
 },
 "nbformat": 4,
 "nbformat_minor": 0
}
