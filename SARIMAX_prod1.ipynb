{
 "cells": [
  {
   "cell_type": "markdown",
   "metadata": {},
   "source": [
    "### The following code is for execution in our production application.  It was initially taken from the \n",
    "### SARIMAX_dev1_models and stripped of all of the diagnostic model building code."
   ]
  },
  {
   "cell_type": "code",
   "execution_count": 1,
   "metadata": {
    "collapsed": false
   },
   "outputs": [],
   "source": [
    "# use print only as a function\n",
    "from __future__ import print_function\n",
    "import sys\n",
    "#sys.version_info\n",
    "#pd.show_versions()"
   ]
  },
  {
   "cell_type": "code",
   "execution_count": 2,
   "metadata": {
    "collapsed": true
   },
   "outputs": [],
   "source": [
    "__author__ = 'swe03'\n",
    "\n",
    "import argparse\n",
    "\n",
    "import numpy as np\n",
    "import pandas as pd\n",
    "import matplotlib.pylab as plt\n",
    "import matplotlib.pyplot as pplt\n",
    "from decimal import *\n",
    "\n",
    "%matplotlib inline\n",
    "from matplotlib.pylab import rcParams\n",
    "rcParams['figure.figsize'] = 15, 6\n",
    "\n",
    "from statsmodels.graphics.api import qqplot\n",
    "\n",
    "from scipy import stats\n",
    "\n",
    "desired_width = 400\n",
    "pd.set_option('display.width',desired_width)"
   ]
  },
  {
   "cell_type": "code",
   "execution_count": 3,
   "metadata": {
    "collapsed": true
   },
   "outputs": [],
   "source": [
    "#!pip install seaborn"
   ]
  },
  {
   "cell_type": "code",
   "execution_count": 4,
   "metadata": {
    "collapsed": true
   },
   "outputs": [],
   "source": [
    "import datetime\n",
    "from dateutil.relativedelta import relativedelta\n",
    "#import seaborn as sns\n",
    "import statsmodels.api as sm  \n",
    "import statsmodels.tsa as tsa\n",
    "from statsmodels.tsa.stattools import acf  \n",
    "from statsmodels.tsa.stattools import pacf\n",
    "from statsmodels.tsa.seasonal import seasonal_decompose"
   ]
  },
  {
   "cell_type": "code",
   "execution_count": 5,
   "metadata": {
    "codeCollapsed": false,
    "collapsed": false,
    "hiddenCell": false
   },
   "outputs": [],
   "source": [
    "#!pip install pandasql\n",
    "from pandasql import PandaSQL \n",
    "pdsql = PandaSQL()"
   ]
  },
  {
   "cell_type": "markdown",
   "metadata": {},
   "source": [
    "##### Read the BQ tables created in the Dst Addr and Port profile 1 or Iterate and Create ADS's 1 programs"
   ]
  },
  {
   "cell_type": "code",
   "execution_count": 6,
   "metadata": {
    "collapsed": false
   },
   "outputs": [
    {
     "name": "stdout",
     "output_type": "stream",
     "text": [
      "Requesting query... ok.\n",
      "Query running...\n",
      "Query done.\n",
      "Processed: 31.5 kb\n",
      "\n",
      "Retrieving results...\n",
      "Got 672 rows.\n",
      "\n",
      "Total time taken 1.19 s.\n",
      "Finished at 2017-01-26 14:49:59.\n"
     ]
    }
   ],
   "source": [
    "#!pip install google-api-python-client\n",
    "p53_ts = pd.read_gbq(\"select * from prod.ts_port_53_4wks\", project_id=\"network-sec-analytics\")\n",
    "#p53_ts"
   ]
  },
  {
   "cell_type": "code",
   "execution_count": 7,
   "metadata": {
    "collapsed": true
   },
   "outputs": [],
   "source": [
    "p53_ts=p53_ts.sort_values(['date_hour'],ascending=True)"
   ]
  },
  {
   "cell_type": "code",
   "execution_count": 8,
   "metadata": {
    "collapsed": false
   },
   "outputs": [],
   "source": [
    "# Create an Hour only variable for the Seasonal Dummies variable creation\n",
    "p53_ts['hour'] = p53_ts.date_hour.dt.strftime('%H')  # Get the Hour"
   ]
  },
  {
   "cell_type": "code",
   "execution_count": 9,
   "metadata": {
    "collapsed": false
   },
   "outputs": [],
   "source": [
    "# Create a Weekday variable for the Seasonal Dummies variable creation\n",
    "p53_ts['weekday'] = p53_ts.date_hour.dt.strftime('%w')  # Get Weekday"
   ]
  },
  {
   "cell_type": "code",
   "execution_count": 10,
   "metadata": {
    "collapsed": true
   },
   "outputs": [],
   "source": [
    "def hour_seasonal_creation(): \n",
    "    for index, row in p53_ts.iterrows():\n",
    "        row_hour = int(row['hour'])\n",
    "        for i in range(0, 23):\n",
    "            if row_hour == i:\n",
    "                p53_ts.loc[index, 'hvar'+ str(i)] = 1\n",
    "            else:\n",
    "                p53_ts.loc[index, 'hvar'+ str(i)] = 0\n",
    "#hour_seasonal_creation()"
   ]
  },
  {
   "cell_type": "code",
   "execution_count": 11,
   "metadata": {
    "collapsed": true
   },
   "outputs": [],
   "source": [
    "# Started the week on a Sunday (0)\n",
    "def weekday_seasonal_creation(): \n",
    "    for index, row in p53_ts.iterrows():\n",
    "        row_weekday = int(row['weekday'])\n",
    "        for i in range(0, 7):\n",
    "            if row_weekday == i:\n",
    "                p53_ts.loc[index, 'wdvar'+ str(i)] = 1\n",
    "            else:\n",
    "                p53_ts.loc[index, 'wdvar'+ str(i)] = 0\n",
    "                \n",
    "weekday_seasonal_creation()"
   ]
  },
  {
   "cell_type": "code",
   "execution_count": 12,
   "metadata": {
    "collapsed": false
   },
   "outputs": [],
   "source": [
    "p53_ts=p53_ts.reset_index(drop=True)"
   ]
  },
  {
   "cell_type": "code",
   "execution_count": 13,
   "metadata": {
    "codeCollapsed": false,
    "collapsed": true,
    "hiddenCell": false
   },
   "outputs": [],
   "source": [
    "# Need a new Feature created since we repurpose date_hour as Index below\n",
    "p53_ts['Date_Hour'] = p53_ts['date_hour']\n",
    "#p53_ts"
   ]
  },
  {
   "cell_type": "code",
   "execution_count": 14,
   "metadata": {
    "collapsed": false
   },
   "outputs": [
    {
     "data": {
      "text/plain": [
       "dtype('<M8[ns]')"
      ]
     },
     "execution_count": 14,
     "metadata": {},
     "output_type": "execute_result"
    }
   ],
   "source": [
    "#Need an Index for the Seasonal Decompostion below\n",
    "p53_ts.reset_index(inplace=True)\n",
    "p53_ts = p53_ts.set_index('date_hour')\n",
    "p53_ts.index.dtype      # Note in the output:dtype('<M8[ns]') but...  np.dtype('datetime64[ns]') = np.dtype('<M8[ns]'):"
   ]
  },
  {
   "cell_type": "markdown",
   "metadata": {},
   "source": [
    "##### Execute some Univariate Statistics"
   ]
  },
  {
   "cell_type": "code",
   "execution_count": 15,
   "metadata": {
    "collapsed": true
   },
   "outputs": [],
   "source": [
    "# Remove the Outliers\n",
    "p53_ts[p53_ts['bytes_mean'] >1000] = 150\n",
    "p53_ts[p53_ts['count'] > 75] = 50\n",
    "p53_ts[p53_ts['count'] < 35] = 50\n",
    "#p53_ts['count'].describe()"
   ]
  },
  {
   "cell_type": "code",
   "execution_count": 16,
   "metadata": {
    "collapsed": false
   },
   "outputs": [],
   "source": [
    "##exog = np.column_stack(list_of_lists)\n",
    "a = np.array(p53_ts['wdvar0'])  # This is Sunday\n",
    "b = np.array(p53_ts['wdvar1'])\n",
    "c = np.array(p53_ts['wdvar2'])\n",
    "d = np.array(p53_ts['wdvar3'])\n",
    "e = np.array(p53_ts['wdvar4'])\n",
    "f = np.array(p53_ts['wdvar5'])\n",
    "g = np.array(p53_ts['wdvar6'])  # Saturday.  This is the Reference day (i.e., Intercept) for Exog 2\n",
    "exog1 = np.column_stack((a,b,c,d,e,f,g))\n",
    "exog2 = np.column_stack((a,b,c,d,e,f))  # This is for the initial modeling using the exog parameter  \n",
    "\n",
    "# This set is for the subsequent one step ahead predictions for day of week dummies. In this case, 2 days.\n",
    "d0 = np.array([0,1])                  # Need (2,6).  This is Row, Column\n",
    "d1 = np.array([0,0])\n",
    "d2 = np.array([0,0])                         \n",
    "d3 = np.array([0,0])\n",
    "d4 = np.array([0,0])\n",
    "d5 = np.array([0,0])   \n",
    "exog3 = np.column_stack((d0,d1,d2,d3,d4,d5))                    \n",
    "\n",
    "\n",
    "#bytes_mean exog congif.  \n",
    "# Need N Rows(Nbr of one step ahead Hours), 1 Col\n",
    "exog4 = np.empty((2,1)) \n",
    "exog4[0] = 122.25\n",
    "exog4[1] = 125.50\n",
    "#exog4\n"
   ]
  },
  {
   "cell_type": "code",
   "execution_count": 17,
   "metadata": {
    "collapsed": false
   },
   "outputs": [
    {
     "name": "stderr",
     "output_type": "stream",
     "text": [
      "/Users/swe03/anaconda/lib/python3.5/site-packages/statsmodels/tsa/base/tsa_model.py:165: ValueWarning: No frequency information was provided, so inferred frequency H will be used.\n",
      "  % freq, ValueWarning)\n",
      "/Users/swe03/anaconda/lib/python3.5/site-packages/statsmodels/base/model.py:496: ConvergenceWarning: Maximum Likelihood optimization failed to converge. Check mle_retvals\n",
      "  \"Check mle_retvals\", ConvergenceWarning)\n"
     ]
    }
   ],
   "source": [
    "mod = sm.tsa.statespace.SARIMAX(p53_ts['count'], \n",
    "     trend='n', order=(5,0,1), seasonal_order=(6,0,0,24))\n",
    "results = mod.fit()\n",
    "#print(results.summary())                                "
   ]
  },
  {
   "cell_type": "code",
   "execution_count": 18,
   "metadata": {
    "collapsed": false
   },
   "outputs": [
    {
     "name": "stdout",
     "output_type": "stream",
     "text": [
      "                                 Statespace Model Results                                 \n",
      "==========================================================================================\n",
      "Dep. Variable:                              count   No. Observations:                  672\n",
      "Model:             SARIMAX(5, 0, 1)x(6, 0, 0, 24)   Log Likelihood               -2127.399\n",
      "Date:                            Thu, 26 Jan 2017   AIC                           4280.797\n",
      "Time:                                    14:52:15   BIC                           4339.431\n",
      "Sample:                                11-20-2016   HQIC                          4303.505\n",
      "                                     - 12-17-2016                                         \n",
      "Covariance Type:                              opg                                         \n",
      "==============================================================================\n",
      "                 coef    std err          z      P>|z|      [0.025      0.975]\n",
      "------------------------------------------------------------------------------\n",
      "ar.L1          1.1116      0.043     25.669      0.000       1.027       1.196\n",
      "ar.L2         -0.0011      0.058     -0.019      0.984      -0.114       0.112\n",
      "ar.L3         -0.0058      0.056     -0.103      0.918      -0.117       0.105\n",
      "ar.L4         -0.0245      0.058     -0.424      0.672      -0.138       0.089\n",
      "ar.L5         -0.0808      0.043     -1.896      0.058      -0.164       0.003\n",
      "ma.L1         -0.9473      0.021    -44.777      0.000      -0.989      -0.906\n",
      "ar.S.L24       0.0433      0.039      1.110      0.267      -0.033       0.120\n",
      "ar.S.L48       0.0530      0.040      1.338      0.181      -0.025       0.131\n",
      "ar.S.L72       0.0951      0.040      2.393      0.017       0.017       0.173\n",
      "ar.S.L96       0.1787      0.041      4.395      0.000       0.099       0.258\n",
      "ar.S.L120      0.0672      0.042      1.587      0.113      -0.016       0.150\n",
      "ar.S.L144      0.1456      0.042      3.486      0.000       0.064       0.228\n",
      "sigma2        32.1613      1.895     16.975      0.000      28.448      35.875\n",
      "===================================================================================\n",
      "Ljung-Box (Q):                       30.39   Jarque-Bera (JB):                 3.58\n",
      "Prob(Q):                              0.86   Prob(JB):                         0.17\n",
      "Heteroskedasticity (H):               1.05   Skew:                            -0.15\n",
      "Prob(H) (two-sided):                  0.71   Kurtosis:                         2.81\n",
      "===================================================================================\n",
      "\n",
      "Warnings:\n",
      "[1] Covariance matrix calculated using the outer product of gradients (complex-step).\n"
     ]
    }
   ],
   "source": [
    "print(results.summary())"
   ]
  },
  {
   "cell_type": "code",
   "execution_count": 19,
   "metadata": {
    "collapsed": true
   },
   "outputs": [],
   "source": [
    "# In-sample one-step-ahead predictions\n",
    "# NOTE:  start is 672 but since this is a 0 based index the last history record is 671 for 672 total records and \n",
    "#        the start value is actually the first forecasted record and index value.\n",
    "# Start and End time will be passed into the function dynamically as we progress through time. \n",
    "# These Start and End times will cycle through a fixed set of index values, assuming we have always keep the time \n",
    "# frame fixed (i.e., one year)\n",
    "predict = results.get_prediction(start=672, end=673)\n",
    "           #,exog = exog4  ) # Bytes_Mean for two Hours\n",
    "           #exog = exog2    # Day of Week  \n",
    "predict_ci = predict.conf_int()"
   ]
  },
  {
   "cell_type": "code",
   "execution_count": 20,
   "metadata": {
    "collapsed": false
   },
   "outputs": [
    {
     "data": {
      "text/plain": [
       "2016-12-18 00:00:00    51.418903\n",
       "2016-12-18 01:00:00    50.939035\n",
       "Freq: H, dtype: float64"
      ]
     },
     "execution_count": 20,
     "metadata": {},
     "output_type": "execute_result"
    }
   ],
   "source": [
    "predict.predicted_mean"
   ]
  },
  {
   "cell_type": "code",
   "execution_count": 21,
   "metadata": {
    "collapsed": false
   },
   "outputs": [
    {
     "data": {
      "text/html": [
       "<div>\n",
       "<table border=\"1\" class=\"dataframe\">\n",
       "  <thead>\n",
       "    <tr style=\"text-align: right;\">\n",
       "      <th></th>\n",
       "      <th>lower count</th>\n",
       "      <th>upper count</th>\n",
       "    </tr>\n",
       "  </thead>\n",
       "  <tbody>\n",
       "    <tr>\n",
       "      <th>2016-12-18 00:00:00</th>\n",
       "      <td>40.303764</td>\n",
       "      <td>62.534043</td>\n",
       "    </tr>\n",
       "    <tr>\n",
       "      <th>2016-12-18 01:00:00</th>\n",
       "      <td>39.674788</td>\n",
       "      <td>62.203282</td>\n",
       "    </tr>\n",
       "  </tbody>\n",
       "</table>\n",
       "</div>"
      ],
      "text/plain": [
       "                     lower count  upper count\n",
       "2016-12-18 00:00:00    40.303764    62.534043\n",
       "2016-12-18 01:00:00    39.674788    62.203282"
      ]
     },
     "execution_count": 21,
     "metadata": {},
     "output_type": "execute_result"
    }
   ],
   "source": [
    "predict_ci.sort_index(ascending=True)"
   ]
  }
 ],
 "metadata": {
  "anaconda-cloud": {},
  "kernelspec": {
   "display_name": "Python [conda root]",
   "language": "python",
   "name": "conda-root-py"
  },
  "language_info": {
   "codemirror_mode": {
    "name": "ipython",
    "version": 3
   },
   "file_extension": ".py",
   "mimetype": "text/x-python",
   "name": "python",
   "nbconvert_exporter": "python",
   "pygments_lexer": "ipython3",
   "version": "3.5.2"
  }
 },
 "nbformat": 4,
 "nbformat_minor": 1
}
