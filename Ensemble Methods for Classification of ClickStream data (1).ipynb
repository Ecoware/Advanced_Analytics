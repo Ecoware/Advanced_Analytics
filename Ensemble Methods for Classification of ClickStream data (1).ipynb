{
 "cells": [
  {
   "cell_type": "markdown",
   "metadata": {},
   "source": [
    "# Ensemble methods for Classification Modeling of Click-Stream data"
   ]
  },
  {
   "cell_type": "markdown",
   "metadata": {},
   "source": [
    "##### Import the BigQuery library for BigQuery SQL functions"
   ]
  },
  {
   "cell_type": "code",
   "execution_count": 1,
   "metadata": {
    "collapsed": true
   },
   "outputs": [],
   "source": [
    "import gcp.bigquery as bq"
   ]
  },
  {
   "cell_type": "markdown",
   "metadata": {},
   "source": [
    "##### Create a SQL module called bq_omn_requests to access the data"
   ]
  },
  {
   "cell_type": "code",
   "execution_count": 2,
   "metadata": {
    "collapsed": true
   },
   "outputs": [],
   "source": [
    "%%sql --module bq_table\n",
    "select * \n",
    "from ClickADS2.ADS_ensemble1\n",
    "##where order = 1\n",
    "order by post_visid, datetime\n"
   ]
  },
  {
   "cell_type": "markdown",
   "metadata": {},
   "source": [
    "##### Explore the result set - view some collection of records"
   ]
  },
  {
   "cell_type": "code",
   "execution_count": 3,
   "metadata": {
    "collapsed": false
   },
   "outputs": [
    {
     "data": {
      "text/html": [
       "\n",
       "    <div class=\"bqtv\" id=\"1_146316392509\"><table><tr><th>post_visid</th><th>VISIT_PAGE_NUM</th><th>DATETIME</th><th>order</th><th>browse_plp_cnt</th><th>browse_scat_cnt</th><th>int_srch_pip_cnt</th><th>pd_cmpgn_content_cnt</th><th>pip_cnt</th><th>plp_cnt</th><th>content</th><th>spc_buy</th><th>acct_sgn_in</th><th>thumbnail_vw_cnt</th><th>refind_srch_cnt</th><th>search_cnt</th><th>appliances</th><th>segment_1</th><th>segment_2</th><th>segment_3</th><th>segment_4</th><th>segment_5</th><th>segment_6</th><th>segment_7</th><th>segment_8</th><th>segment_9</th><th>segment_10</th><th>segment_1_duration</th><th>segment_2_duration</th><th>segment_3_duration</th><th>segment_4_duration</th><th>segment_5_duration</th><th>segment_6_duration</th><th>segment_7_duration</th><th>segment_8_duration</th><th>segment_9_duration</th><th>segment_10_duration</th><th>visit_duration</th><th>segment_path</th><th>page_view_cnt</th></tr><tr><td>115942699612058706125806576234</td><td>25</td><td>01Dec2015 10:57:54.000</td><td>0</td><td>5</td><td>0</td><td>0</td><td>0</td><td>5</td><td>5</td><td>0</td><td>0</td><td>0</td><td>2</td><td>0</td><td>0</td><td>0</td><td>pip</td><td>&nbsp;</td><td>plp</td><td>pip</td><td>plp</td><td>&nbsp;</td><td>pip</td><td>plp</td><td>pip</td><td>&nbsp;</td><td>0.55</td><td>0.22</td><td>0.32</td><td>0.63</td><td>2.17</td><td>0.85</td><td>0.40</td><td>0.12</td><td>2.25</td><td>0.00</td><td>10.08</td><td>pip_ _plp_pip_plp_ _pip_plp_pip_</td><td>25</td></tr><tr><td>115943730511915251440592659287</td><td>11</td><td>01Dec2015 19:39:39.000</td><td>0</td><td>0</td><td>0</td><td>0</td><td>0</td><td>3</td><td>0</td><td>0</td><td>0</td><td>0</td><td>1</td><td>0</td><td>0</td><td>0</td><td>pip</td><td>&nbsp;</td><td>&nbsp;</td><td>&nbsp;</td><td>&nbsp;</td><td>&nbsp;</td><td>&nbsp;</td><td>&nbsp;</td><td>&nbsp;</td><td>&nbsp;</td><td>2.18</td><td>0.00</td><td>0.00</td><td>0.00</td><td>0.00</td><td>0.00</td><td>0.00</td><td>0.00</td><td>0.00</td><td>0.00</td><td>4.18</td><td>pip_ _ _ _ _ _ _ _ _</td><td>11</td></tr><tr><td>115944770271694836181020243372</td><td>1</td><td>01Dec2015 16:54:10.000</td><td>0</td><td>0</td><td>0</td><td>0</td><td>0</td><td>1</td><td>0</td><td>0</td><td>0</td><td>0</td><td>0</td><td>0</td><td>0</td><td>0</td><td>pip</td><td>&nbsp;</td><td>&nbsp;</td><td>&nbsp;</td><td>&nbsp;</td><td>&nbsp;</td><td>&nbsp;</td><td>&nbsp;</td><td>&nbsp;</td><td>&nbsp;</td><td>0.00</td><td>0.00</td><td>0.00</td><td>0.00</td><td>0.00</td><td>0.00</td><td>0.00</td><td>0.00</td><td>0.00</td><td>0.00</td><td>0.0</td><td>pip_ _ _ _ _ _ _ _ _</td><td>1</td></tr><tr><td>115944791447135714035661097526</td><td>5</td><td>01Dec2015 10:18:13.000</td><td>0</td><td>0</td><td>0</td><td>0</td><td>0</td><td>1</td><td>0</td><td>0</td><td>0</td><td>0</td><td>0</td><td>0</td><td>1</td><td>0</td><td>homepage</td><td>&nbsp;</td><td>search results</td><td>pip</td><td>&nbsp;</td><td>&nbsp;</td><td>&nbsp;</td><td>&nbsp;</td><td>&nbsp;</td><td>&nbsp;</td><td>5.52</td><td>0.05</td><td>1.37</td><td>2.43</td><td>0.00</td><td>0.00</td><td>0.00</td><td>0.00</td><td>0.00</td><td>0.00</td><td>9.37</td><td>homepage_ _search results_pip_ _ _ _ _ _</td><td>5</td></tr><tr><td>115944857671556848147187079880</td><td>1</td><td>01Dec2015 17:24:50.000</td><td>0</td><td>0</td><td>0</td><td>0</td><td>0</td><td>0</td><td>1</td><td>0</td><td>0</td><td>0</td><td>0</td><td>0</td><td>0</td><td>0</td><td>plp</td><td>&nbsp;</td><td>&nbsp;</td><td>&nbsp;</td><td>&nbsp;</td><td>&nbsp;</td><td>&nbsp;</td><td>&nbsp;</td><td>&nbsp;</td><td>&nbsp;</td><td>0.00</td><td>0.00</td><td>0.00</td><td>0.00</td><td>0.00</td><td>0.00</td><td>0.00</td><td>0.00</td><td>0.00</td><td>0.00</td><td>0.0</td><td>plp_ _ _ _ _ _ _ _ _</td><td>1</td></tr><tr><td>115947904789336752873600801594</td><td>1</td><td>01Dec2015 19:28:10.000</td><td>0</td><td>0</td><td>0</td><td>0</td><td>0</td><td>0</td><td>0</td><td>0</td><td>0</td><td>0</td><td>0</td><td>0</td><td>0</td><td>0</td><td>homepage</td><td>&nbsp;</td><td>&nbsp;</td><td>&nbsp;</td><td>&nbsp;</td><td>&nbsp;</td><td>&nbsp;</td><td>&nbsp;</td><td>&nbsp;</td><td>&nbsp;</td><td>0.00</td><td>0.00</td><td>0.00</td><td>0.00</td><td>0.00</td><td>0.00</td><td>0.00</td><td>0.00</td><td>0.00</td><td>0.00</td><td>0.0</td><td>homepage_ _ _ _ _ _ _ _ _</td><td>1</td></tr><tr><td>115953721947431862839367797473</td><td>42</td><td>01Dec2015 23:08:02.000</td><td>0</td><td>6</td><td>1</td><td>0</td><td>0</td><td>4</td><td>7</td><td>1</td><td>0</td><td>0</td><td>0</td><td>0</td><td>7</td><td>2</td><td>homepage</td><td>content</td><td>&nbsp;</td><td>search results</td><td>&nbsp;</td><td>search results</td><td>&nbsp;</td><td>pip</td><td>&nbsp;</td><td>search results</td><td>0.12</td><td>0.90</td><td>1.30</td><td>1.02</td><td>0.28</td><td>0.02</td><td>3.20</td><td>0.62</td><td>1.42</td><td>0.53</td><td>22.78</td><td>homepage_content_ _search results_ _search results_ _pip_ _search results</td><td>42</td></tr><tr><td>115954432248227738911320062156</td><td>1</td><td>01Dec2015 15:17:54.000</td><td>0</td><td>0</td><td>0</td><td>0</td><td>0</td><td>0</td><td>0</td><td>3</td><td>0</td><td>0</td><td>0</td><td>0</td><td>0</td><td>0</td><td>content</td><td>&nbsp;</td><td>content</td><td>&nbsp;</td><td>&nbsp;</td><td>&nbsp;</td><td>&nbsp;</td><td>&nbsp;</td><td>&nbsp;</td><td>&nbsp;</td><td>2.77</td><td>0.50</td><td>0.12</td><td>87.03</td><td>0.00</td><td>0.00</td><td>0.00</td><td>0.00</td><td>0.00</td><td>0.00</td><td>0.0</td><td>content_ _content_ _ _ _ _ _ _</td><td>1</td></tr><tr><td>115955382771450620354140327513</td><td>16</td><td>01Dec2015 18:07:00.000</td><td>0</td><td>0</td><td>0</td><td>1</td><td>0</td><td>6</td><td>0</td><td>0</td><td>0</td><td>0</td><td>1</td><td>0</td><td>0</td><td>0</td><td>pip</td><td>&nbsp;</td><td>pip</td><td>&nbsp;</td><td>pip</td><td>&nbsp;</td><td>&nbsp;</td><td>&nbsp;</td><td>&nbsp;</td><td>&nbsp;</td><td>10.80</td><td>6.47</td><td>1.20</td><td>6.00</td><td>3.93</td><td>2.28</td><td>0.00</td><td>0.00</td><td>0.00</td><td>0.00</td><td>30.68</td><td>pip_ _pip_ _pip_ _ _ _ _</td><td>16</td></tr><tr><td>115958973171644213891269919966</td><td>1</td><td>01Dec2015 10:29:21.000</td><td>0</td><td>0</td><td>0</td><td>0</td><td>0</td><td>0</td><td>0</td><td>0</td><td>0</td><td>0</td><td>0</td><td>0</td><td>0</td><td>0</td><td>homepage</td><td>&nbsp;</td><td>&nbsp;</td><td>&nbsp;</td><td>&nbsp;</td><td>&nbsp;</td><td>&nbsp;</td><td>&nbsp;</td><td>&nbsp;</td><td>&nbsp;</td><td>0.00</td><td>0.00</td><td>0.00</td><td>0.00</td><td>0.00</td><td>0.00</td><td>0.00</td><td>0.00</td><td>0.00</td><td>0.00</td><td>0.0</td><td>homepage_ _ _ _ _ _ _ _ _</td><td>1</td></tr></table></div>\n",
       "    <br />(rows: 10, time: 1.5s,   564KB processed, job: job_aUP_Fq6NLTQtTk8h6pETYde5rUo)<br />\n",
       "    <script>\n",
       "      require(['extensions/charting', 'element!1_146316392509', 'style!/static/extensions/charting.css'],\n",
       "        function(charts, dom) {\n",
       "          charts.render(dom,\n",
       "            {\n",
       "              chartStyle:\"table\",\n",
       "              dataName:\"0\",\n",
       "              fields:\"post_visid,VISIT_PAGE_NUM,DATETIME,order,browse_plp_cnt,browse_scat_cnt,int_srch_pip_cnt,pd_cmpgn_content_cnt,pip_cnt,plp_cnt,content,spc_buy,acct_sgn_in,thumbnail_vw_cnt,refind_srch_cnt,search_cnt,appliances,segment_1,segment_2,segment_3,segment_4,segment_5,segment_6,segment_7,segment_8,segment_9,segment_10,segment_1_duration,segment_2_duration,segment_3_duration,segment_4_duration,segment_5_duration,segment_6_duration,segment_7_duration,segment_8_duration,segment_9_duration,segment_10_duration,visit_duration,segment_path,page_view_cnt\",\n",
       "              totalRows:10,\n",
       "              rowsPerPage:25,\n",
       "            }, {}, {\"rows\": [{\"c\": [{\"v\": \"115942699612058706125806576234\"}, {\"v\": 25}, {\"v\": \"01Dec2015 10:57:54.000\"}, {\"v\": 0}, {\"v\": 5}, {\"v\": 0}, {\"v\": 0}, {\"v\": 0}, {\"v\": 5}, {\"v\": 5}, {\"v\": 0}, {\"v\": 0}, {\"v\": 0}, {\"v\": 2}, {\"v\": 0}, {\"v\": 0}, {\"v\": 0}, {\"v\": \"pip\"}, {\"v\": null}, {\"v\": \"plp\"}, {\"v\": \"pip\"}, {\"v\": \"plp\"}, {\"v\": null}, {\"v\": \"pip\"}, {\"v\": \"plp\"}, {\"v\": \"pip\"}, {\"v\": null}, {\"v\": \"0.55\"}, {\"v\": \"0.22\"}, {\"v\": \"0.32\"}, {\"v\": \"0.63\"}, {\"v\": \"2.17\"}, {\"v\": \"0.85\"}, {\"v\": \"0.40\"}, {\"v\": \"0.12\"}, {\"v\": \"2.25\"}, {\"v\": \"0.00\"}, {\"v\": 10.08}, {\"v\": \"pip_ _plp_pip_plp_ _pip_plp_pip_\"}, {\"v\": 25}]}, {\"c\": [{\"v\": \"115943730511915251440592659287\"}, {\"v\": 11}, {\"v\": \"01Dec2015 19:39:39.000\"}, {\"v\": 0}, {\"v\": 0}, {\"v\": 0}, {\"v\": 0}, {\"v\": 0}, {\"v\": 3}, {\"v\": 0}, {\"v\": 0}, {\"v\": 0}, {\"v\": 0}, {\"v\": 1}, {\"v\": 0}, {\"v\": 0}, {\"v\": 0}, {\"v\": \"pip\"}, {\"v\": null}, {\"v\": null}, {\"v\": null}, {\"v\": null}, {\"v\": null}, {\"v\": null}, {\"v\": null}, {\"v\": null}, {\"v\": null}, {\"v\": \"2.18\"}, {\"v\": \"0.00\"}, {\"v\": \"0.00\"}, {\"v\": \"0.00\"}, {\"v\": \"0.00\"}, {\"v\": \"0.00\"}, {\"v\": \"0.00\"}, {\"v\": \"0.00\"}, {\"v\": \"0.00\"}, {\"v\": \"0.00\"}, {\"v\": 4.18}, {\"v\": \"pip_ _ _ _ _ _ _ _ _\"}, {\"v\": 11}]}, {\"c\": [{\"v\": \"115944770271694836181020243372\"}, {\"v\": 1}, {\"v\": \"01Dec2015 16:54:10.000\"}, {\"v\": 0}, {\"v\": 0}, {\"v\": 0}, {\"v\": 0}, {\"v\": 0}, {\"v\": 1}, {\"v\": 0}, {\"v\": 0}, {\"v\": 0}, {\"v\": 0}, {\"v\": 0}, {\"v\": 0}, {\"v\": 0}, {\"v\": 0}, {\"v\": \"pip\"}, {\"v\": null}, {\"v\": null}, {\"v\": null}, {\"v\": null}, {\"v\": null}, {\"v\": null}, {\"v\": null}, {\"v\": null}, {\"v\": null}, {\"v\": \"0.00\"}, {\"v\": \"0.00\"}, {\"v\": \"0.00\"}, {\"v\": \"0.00\"}, {\"v\": \"0.00\"}, {\"v\": \"0.00\"}, {\"v\": \"0.00\"}, {\"v\": \"0.00\"}, {\"v\": \"0.00\"}, {\"v\": \"0.00\"}, {\"v\": 0.0}, {\"v\": \"pip_ _ _ _ _ _ _ _ _\"}, {\"v\": 1}]}, {\"c\": [{\"v\": \"115944791447135714035661097526\"}, {\"v\": 5}, {\"v\": \"01Dec2015 10:18:13.000\"}, {\"v\": 0}, {\"v\": 0}, {\"v\": 0}, {\"v\": 0}, {\"v\": 0}, {\"v\": 1}, {\"v\": 0}, {\"v\": 0}, {\"v\": 0}, {\"v\": 0}, {\"v\": 0}, {\"v\": 0}, {\"v\": 1}, {\"v\": 0}, {\"v\": \"homepage\"}, {\"v\": null}, {\"v\": \"search results\"}, {\"v\": \"pip\"}, {\"v\": null}, {\"v\": null}, {\"v\": null}, {\"v\": null}, {\"v\": null}, {\"v\": null}, {\"v\": \"5.52\"}, {\"v\": \"0.05\"}, {\"v\": \"1.37\"}, {\"v\": \"2.43\"}, {\"v\": \"0.00\"}, {\"v\": \"0.00\"}, {\"v\": \"0.00\"}, {\"v\": \"0.00\"}, {\"v\": \"0.00\"}, {\"v\": \"0.00\"}, {\"v\": 9.37}, {\"v\": \"homepage_ _search results_pip_ _ _ _ _ _\"}, {\"v\": 5}]}, {\"c\": [{\"v\": \"115944857671556848147187079880\"}, {\"v\": 1}, {\"v\": \"01Dec2015 17:24:50.000\"}, {\"v\": 0}, {\"v\": 0}, {\"v\": 0}, {\"v\": 0}, {\"v\": 0}, {\"v\": 0}, {\"v\": 1}, {\"v\": 0}, {\"v\": 0}, {\"v\": 0}, {\"v\": 0}, {\"v\": 0}, {\"v\": 0}, {\"v\": 0}, {\"v\": \"plp\"}, {\"v\": null}, {\"v\": null}, {\"v\": null}, {\"v\": null}, {\"v\": null}, {\"v\": null}, {\"v\": null}, {\"v\": null}, {\"v\": null}, {\"v\": \"0.00\"}, {\"v\": \"0.00\"}, {\"v\": \"0.00\"}, {\"v\": \"0.00\"}, {\"v\": \"0.00\"}, {\"v\": \"0.00\"}, {\"v\": \"0.00\"}, {\"v\": \"0.00\"}, {\"v\": \"0.00\"}, {\"v\": \"0.00\"}, {\"v\": 0.0}, {\"v\": \"plp_ _ _ _ _ _ _ _ _\"}, {\"v\": 1}]}, {\"c\": [{\"v\": \"115947904789336752873600801594\"}, {\"v\": 1}, {\"v\": \"01Dec2015 19:28:10.000\"}, {\"v\": 0}, {\"v\": 0}, {\"v\": 0}, {\"v\": 0}, {\"v\": 0}, {\"v\": 0}, {\"v\": 0}, {\"v\": 0}, {\"v\": 0}, {\"v\": 0}, {\"v\": 0}, {\"v\": 0}, {\"v\": 0}, {\"v\": 0}, {\"v\": \"homepage\"}, {\"v\": null}, {\"v\": null}, {\"v\": null}, {\"v\": null}, {\"v\": null}, {\"v\": null}, {\"v\": null}, {\"v\": null}, {\"v\": null}, {\"v\": \"0.00\"}, {\"v\": \"0.00\"}, {\"v\": \"0.00\"}, {\"v\": \"0.00\"}, {\"v\": \"0.00\"}, {\"v\": \"0.00\"}, {\"v\": \"0.00\"}, {\"v\": \"0.00\"}, {\"v\": \"0.00\"}, {\"v\": \"0.00\"}, {\"v\": 0.0}, {\"v\": \"homepage_ _ _ _ _ _ _ _ _\"}, {\"v\": 1}]}, {\"c\": [{\"v\": \"115953721947431862839367797473\"}, {\"v\": 42}, {\"v\": \"01Dec2015 23:08:02.000\"}, {\"v\": 0}, {\"v\": 6}, {\"v\": 1}, {\"v\": 0}, {\"v\": 0}, {\"v\": 4}, {\"v\": 7}, {\"v\": 1}, {\"v\": 0}, {\"v\": 0}, {\"v\": 0}, {\"v\": 0}, {\"v\": 7}, {\"v\": 2}, {\"v\": \"homepage\"}, {\"v\": \"content\"}, {\"v\": null}, {\"v\": \"search results\"}, {\"v\": null}, {\"v\": \"search results\"}, {\"v\": null}, {\"v\": \"pip\"}, {\"v\": null}, {\"v\": \"search results\"}, {\"v\": \"0.12\"}, {\"v\": \"0.90\"}, {\"v\": \"1.30\"}, {\"v\": \"1.02\"}, {\"v\": \"0.28\"}, {\"v\": \"0.02\"}, {\"v\": \"3.20\"}, {\"v\": \"0.62\"}, {\"v\": \"1.42\"}, {\"v\": \"0.53\"}, {\"v\": 22.78}, {\"v\": \"homepage_content_ _search results_ _search results_ _pip_ _search results\"}, {\"v\": 42}]}, {\"c\": [{\"v\": \"115954432248227738911320062156\"}, {\"v\": 1}, {\"v\": \"01Dec2015 15:17:54.000\"}, {\"v\": 0}, {\"v\": 0}, {\"v\": 0}, {\"v\": 0}, {\"v\": 0}, {\"v\": 0}, {\"v\": 0}, {\"v\": 3}, {\"v\": 0}, {\"v\": 0}, {\"v\": 0}, {\"v\": 0}, {\"v\": 0}, {\"v\": 0}, {\"v\": \"content\"}, {\"v\": null}, {\"v\": \"content\"}, {\"v\": null}, {\"v\": null}, {\"v\": null}, {\"v\": null}, {\"v\": null}, {\"v\": null}, {\"v\": null}, {\"v\": \"2.77\"}, {\"v\": \"0.50\"}, {\"v\": \"0.12\"}, {\"v\": \"87.03\"}, {\"v\": \"0.00\"}, {\"v\": \"0.00\"}, {\"v\": \"0.00\"}, {\"v\": \"0.00\"}, {\"v\": \"0.00\"}, {\"v\": \"0.00\"}, {\"v\": 0.0}, {\"v\": \"content_ _content_ _ _ _ _ _ _\"}, {\"v\": 1}]}, {\"c\": [{\"v\": \"115955382771450620354140327513\"}, {\"v\": 16}, {\"v\": \"01Dec2015 18:07:00.000\"}, {\"v\": 0}, {\"v\": 0}, {\"v\": 0}, {\"v\": 1}, {\"v\": 0}, {\"v\": 6}, {\"v\": 0}, {\"v\": 0}, {\"v\": 0}, {\"v\": 0}, {\"v\": 1}, {\"v\": 0}, {\"v\": 0}, {\"v\": 0}, {\"v\": \"pip\"}, {\"v\": null}, {\"v\": \"pip\"}, {\"v\": null}, {\"v\": \"pip\"}, {\"v\": null}, {\"v\": null}, {\"v\": null}, {\"v\": null}, {\"v\": null}, {\"v\": \"10.80\"}, {\"v\": \"6.47\"}, {\"v\": \"1.20\"}, {\"v\": \"6.00\"}, {\"v\": \"3.93\"}, {\"v\": \"2.28\"}, {\"v\": \"0.00\"}, {\"v\": \"0.00\"}, {\"v\": \"0.00\"}, {\"v\": \"0.00\"}, {\"v\": 30.68}, {\"v\": \"pip_ _pip_ _pip_ _ _ _ _\"}, {\"v\": 16}]}, {\"c\": [{\"v\": \"115958973171644213891269919966\"}, {\"v\": 1}, {\"v\": \"01Dec2015 10:29:21.000\"}, {\"v\": 0}, {\"v\": 0}, {\"v\": 0}, {\"v\": 0}, {\"v\": 0}, {\"v\": 0}, {\"v\": 0}, {\"v\": 0}, {\"v\": 0}, {\"v\": 0}, {\"v\": 0}, {\"v\": 0}, {\"v\": 0}, {\"v\": 0}, {\"v\": \"homepage\"}, {\"v\": null}, {\"v\": null}, {\"v\": null}, {\"v\": null}, {\"v\": null}, {\"v\": null}, {\"v\": null}, {\"v\": null}, {\"v\": null}, {\"v\": \"0.00\"}, {\"v\": \"0.00\"}, {\"v\": \"0.00\"}, {\"v\": \"0.00\"}, {\"v\": \"0.00\"}, {\"v\": \"0.00\"}, {\"v\": \"0.00\"}, {\"v\": \"0.00\"}, {\"v\": \"0.00\"}, {\"v\": \"0.00\"}, {\"v\": 0.0}, {\"v\": \"homepage_ _ _ _ _ _ _ _ _\"}, {\"v\": 1}]}], \"cols\": [{\"type\": \"string\", \"id\": \"post_visid\", \"label\": \"post_visid\"}, {\"type\": \"number\", \"id\": \"VISIT_PAGE_NUM\", \"label\": \"VISIT_PAGE_NUM\"}, {\"type\": \"string\", \"id\": \"DATETIME\", \"label\": \"DATETIME\"}, {\"type\": \"number\", \"id\": \"order\", \"label\": \"order\"}, {\"type\": \"number\", \"id\": \"browse_plp_cnt\", \"label\": \"browse_plp_cnt\"}, {\"type\": \"number\", \"id\": \"browse_scat_cnt\", \"label\": \"browse_scat_cnt\"}, {\"type\": \"number\", \"id\": \"int_srch_pip_cnt\", \"label\": \"int_srch_pip_cnt\"}, {\"type\": \"number\", \"id\": \"pd_cmpgn_content_cnt\", \"label\": \"pd_cmpgn_content_cnt\"}, {\"type\": \"number\", \"id\": \"pip_cnt\", \"label\": \"pip_cnt\"}, {\"type\": \"number\", \"id\": \"plp_cnt\", \"label\": \"plp_cnt\"}, {\"type\": \"number\", \"id\": \"content\", \"label\": \"content\"}, {\"type\": \"number\", \"id\": \"spc_buy\", \"label\": \"spc_buy\"}, {\"type\": \"number\", \"id\": \"acct_sgn_in\", \"label\": \"acct_sgn_in\"}, {\"type\": \"number\", \"id\": \"thumbnail_vw_cnt\", \"label\": \"thumbnail_vw_cnt\"}, {\"type\": \"number\", \"id\": \"refind_srch_cnt\", \"label\": \"refind_srch_cnt\"}, {\"type\": \"number\", \"id\": \"search_cnt\", \"label\": \"search_cnt\"}, {\"type\": \"number\", \"id\": \"appliances\", \"label\": \"appliances\"}, {\"type\": \"string\", \"id\": \"segment_1\", \"label\": \"segment_1\"}, {\"type\": \"string\", \"id\": \"segment_2\", \"label\": \"segment_2\"}, {\"type\": \"string\", \"id\": \"segment_3\", \"label\": \"segment_3\"}, {\"type\": \"string\", \"id\": \"segment_4\", \"label\": \"segment_4\"}, {\"type\": \"string\", \"id\": \"segment_5\", \"label\": \"segment_5\"}, {\"type\": \"string\", \"id\": \"segment_6\", \"label\": \"segment_6\"}, {\"type\": \"string\", \"id\": \"segment_7\", \"label\": \"segment_7\"}, {\"type\": \"string\", \"id\": \"segment_8\", \"label\": \"segment_8\"}, {\"type\": \"string\", \"id\": \"segment_9\", \"label\": \"segment_9\"}, {\"type\": \"string\", \"id\": \"segment_10\", \"label\": \"segment_10\"}, {\"type\": \"string\", \"id\": \"segment_1_duration\", \"label\": \"segment_1_duration\"}, {\"type\": \"string\", \"id\": \"segment_2_duration\", \"label\": \"segment_2_duration\"}, {\"type\": \"string\", \"id\": \"segment_3_duration\", \"label\": \"segment_3_duration\"}, {\"type\": \"string\", \"id\": \"segment_4_duration\", \"label\": \"segment_4_duration\"}, {\"type\": \"string\", \"id\": \"segment_5_duration\", \"label\": \"segment_5_duration\"}, {\"type\": \"string\", \"id\": \"segment_6_duration\", \"label\": \"segment_6_duration\"}, {\"type\": \"string\", \"id\": \"segment_7_duration\", \"label\": \"segment_7_duration\"}, {\"type\": \"string\", \"id\": \"segment_8_duration\", \"label\": \"segment_8_duration\"}, {\"type\": \"string\", \"id\": \"segment_9_duration\", \"label\": \"segment_9_duration\"}, {\"type\": \"string\", \"id\": \"segment_10_duration\", \"label\": \"segment_10_duration\"}, {\"type\": \"number\", \"id\": \"visit_duration\", \"label\": \"visit_duration\"}, {\"type\": \"string\", \"id\": \"segment_path\", \"label\": \"segment_path\"}, {\"type\": \"number\", \"id\": \"page_view_cnt\", \"label\": \"page_view_cnt\"}]});\n",
       "        }\n",
       "      );\n",
       "    </script>\n",
       "  "
      ],
      "text/plain": [
       "QueryResultsTable job_aUP_Fq6NLTQtTk8h6pETYde5rUo"
      ]
     },
     "execution_count": 3,
     "metadata": {},
     "output_type": "execute_result"
    }
   ],
   "source": [
    "%%bigquery sample --count 10 --query bq_table"
   ]
  },
  {
   "cell_type": "markdown",
   "metadata": {},
   "source": [
    "##### The code below constructs a BigQuery Query instance, executes the query, and converts the results into a DataFrame.  \n",
    "##### The len statement counts the number of records"
   ]
  },
  {
   "cell_type": "code",
   "execution_count": 4,
   "metadata": {
    "collapsed": false
   },
   "outputs": [
    {
     "data": {
      "text/plain": [
       "1600"
      ]
     },
     "execution_count": 4,
     "metadata": {},
     "output_type": "execute_result"
    }
   ],
   "source": [
    "df = bq.Query(bq_table).to_dataframe()\n",
    "len(df)"
   ]
  },
  {
   "cell_type": "markdown",
   "metadata": {},
   "source": [
    "##### Examine or Describe records from the DataFrame created above"
   ]
  },
  {
   "cell_type": "code",
   "execution_count": 5,
   "metadata": {
    "collapsed": false
   },
   "outputs": [
    {
     "data": {
      "text/plain": [
       "0    819\n",
       "1    781\n",
       "Name: order, dtype: int64"
      ]
     },
     "execution_count": 5,
     "metadata": {},
     "output_type": "execute_result"
    }
   ],
   "source": [
    "##df.head(10)\n",
    "#df.describe(include = 'all')\n",
    "df['order'].value_counts()"
   ]
  },
  {
   "cell_type": "markdown",
   "metadata": {},
   "source": [
    "##### -----------------------------------------------------------------------------------------------------------------\n",
    "#####      Start the processing of the various ensemble methods                                                \n",
    "##### -----------------------------------------------------------------------------------------------------------------"
   ]
  },
  {
   "cell_type": "markdown",
   "metadata": {},
   "source": [
    "##### Install the SQL package (does not come pre-installed)"
   ]
  },
  {
   "cell_type": "code",
   "execution_count": 56,
   "metadata": {
    "collapsed": false
   },
   "outputs": [
    {
     "name": "stdout",
     "output_type": "stream",
     "text": [
      "Requirement already satisfied (use --upgrade to upgrade): graphviz in /usr/local/lib/python2.7/dist-packages\n",
      "Cleaning up...\n",
      "Downloading/unpacking pydot\n",
      "  Downloading pydot-1.0.28.tar.gz\n",
      "  Running setup.py (path:/tmp/pip-build-Xz1R_K/pydot/setup.py) egg_info for package pydot\n",
      "    Couldn't import dot_parser, loading of dot files will not be possible.\n",
      "    \n",
      "Requirement already satisfied (use --upgrade to upgrade): pyparsing in /usr/local/lib/python2.7/dist-packages (from pydot)\n",
      "Requirement already satisfied (use --upgrade to upgrade): setuptools in /usr/lib/python2.7/dist-packages (from pydot)\n",
      "Installing collected packages: pydot\n",
      "  Running setup.py install for pydot\n",
      "    Couldn't import dot_parser, loading of dot files will not be possible.\n",
      "    \n",
      "Successfully installed pydot\n",
      "Cleaning up...\n"
     ]
    }
   ],
   "source": [
    "%%bash\n",
    "##pip install pandasql  ## Already installed\n",
    "pip install graphviz\n",
    "pip install pydot    ## Already installed"
   ]
  },
  {
   "cell_type": "markdown",
   "metadata": {},
   "source": [
    "##### Import some additional libraries"
   ]
  },
  {
   "cell_type": "code",
   "execution_count": 57,
   "metadata": {
    "collapsed": false
   },
   "outputs": [],
   "source": [
    "import numpy as np\n",
    "import pandas as pd\n",
    "from pandasql import PandaSQL\n",
    "from patsy import dmatrices\n",
    "import statsmodels.api as sm\n",
    "#from sklearn.model_selection import cross_val_score    ## This is a module found in sklearn v18. We are running v16\n",
    "from sklearn.cross_validation import cross_val_score    ## Same functionality but in v16\n",
    "from sklearn.datasets import make_blobs\n",
    "from sklearn.ensemble import RandomForestClassifier\n",
    "from sklearn.ensemble import ExtraTreesClassifier\n",
    "#from sklearn.tree import DecisionTreeClassifier  \n",
    "from sklearn import tree        # Can call DecisionTreeClassifier from tree.DecisionTreeClassifier\n",
    "from sklearn import metrics\n",
    "from sklearn.externals.six import StringIO\n",
    "import graphviz as gv\n",
    "import pydot"
   ]
  },
  {
   "cell_type": "markdown",
   "metadata": {},
   "source": [
    "##### Check the SciKit Learn version"
   ]
  },
  {
   "cell_type": "code",
   "execution_count": 8,
   "metadata": {
    "collapsed": false
   },
   "outputs": [],
   "source": [
    "#import sklearn as sklearn\n",
    "#print(sklearn, sklearn.__version__)"
   ]
  },
  {
   "cell_type": "markdown",
   "metadata": {},
   "source": [
    "##### Create the data structure"
   ]
  },
  {
   "cell_type": "code",
   "execution_count": 9,
   "metadata": {
    "collapsed": true
   },
   "outputs": [],
   "source": [
    "y, X = dmatrices('order ~ browse_scat_cnt + browse_plp_cnt + page_view_cnt + pd_cmpgn_content_cnt \\\n",
    " + pip_cnt + plp_cnt + spc_buy + acct_sgn_in + thumbnail_vw_cnt + refind_srch_cnt + int_srch_pip_cnt + content  \\\n",
    " + search_cnt + appliances + visit_duration' ,df, return_type=\"dataframe\")"
   ]
  },
  {
   "cell_type": "markdown",
   "metadata": {},
   "source": [
    "##### Display the predictors in the functional form"
   ]
  },
  {
   "cell_type": "code",
   "execution_count": 30,
   "metadata": {
    "collapsed": false
   },
   "outputs": [
    {
     "data": {
      "text/plain": [
       "pandas.core.frame.DataFrame"
      ]
     },
     "execution_count": 30,
     "metadata": {},
     "output_type": "execute_result"
    }
   ],
   "source": [
    "##print(X.columns)\n",
    "type(X)"
   ]
  },
  {
   "cell_type": "markdown",
   "metadata": {},
   "source": [
    "##### Structure the Dependent Variable into an arrary"
   ]
  },
  {
   "cell_type": "code",
   "execution_count": 31,
   "metadata": {
    "collapsed": false
   },
   "outputs": [
    {
     "data": {
      "text/plain": [
       "numpy.ndarray"
      ]
     },
     "execution_count": 31,
     "metadata": {},
     "output_type": "execute_result"
    }
   ],
   "source": [
    "y = np.ravel(y)\n",
    "#y\n",
    "type(y)"
   ]
  },
  {
   "cell_type": "markdown",
   "metadata": {},
   "source": [
    "##### Create the Classifer object (i.e., clf)  using Decision Tree"
   ]
  },
  {
   "cell_type": "code",
   "execution_count": 15,
   "metadata": {
    "collapsed": false
   },
   "outputs": [
    {
     "data": {
      "text/plain": [
       "0.8287483047691323"
      ]
     },
     "execution_count": 15,
     "metadata": {},
     "output_type": "execute_result"
    }
   ],
   "source": [
    "clf = tree.DecisionTreeClassifier(max_depth=None, min_samples_split=1, random_state=0)\n",
    "scores = cross_val_score(clf, X, y)\n",
    "scores.mean()                      "
   ]
  },
  {
   "cell_type": "code",
   "execution_count": 16,
   "metadata": {
    "collapsed": false
   },
   "outputs": [
    {
     "data": {
      "text/plain": [
       "array([ 0.83146067,  0.81988743,  0.83489681])"
      ]
     },
     "execution_count": 16,
     "metadata": {},
     "output_type": "execute_result"
    }
   ],
   "source": [
    "scores"
   ]
  },
  {
   "cell_type": "code",
   "execution_count": 17,
   "metadata": {
    "collapsed": true
   },
   "outputs": [],
   "source": [
    "clf_tree = clf.fit(X, y)"
   ]
  },
  {
   "cell_type": "markdown",
   "metadata": {},
   "source": [
    "##### Some learning.  Note that the \"bunch\" data structure is just a dictionary with some syntactical sugar on top. It's \n",
    "#####  not a readily available object."
   ]
  },
  {
   "cell_type": "code",
   "execution_count": 32,
   "metadata": {
    "collapsed": false
   },
   "outputs": [],
   "source": [
    "#from sklearn.datasets import load_iris\n",
    "#from sklearn import tree\n",
    "#iris = load_iris()\n",
    "##type(iris)   ## This is a sklearn.datasets.base.Bunch\n",
    "##iris         ## Very rich data structure\n"
   ]
  },
  {
   "cell_type": "code",
   "execution_count": 36,
   "metadata": {
    "collapsed": true
   },
   "outputs": [],
   "source": [
    "DescDict = {\"feature_names\": [\"browse_scat_cnt\",\"browse_plp_cnt\",\"page_view_cnt\",\"pd_cmpgn_content_cnt\",\n",
    "  \"pip_cnt\",\"plp_cnt\",\"spc_buy\",\"acct_sgn_in\",\"thumbnail_vw_cnt\",\"refind_srch_cnt\",\"int_srch_pip_cnt\",\"content\", \n",
    "  \"search_cnt\",\"appliances\",\"visit_duration\"], \"target_names\": [\"0\",\"1\"], \"data\": [[]], \"description\": \"some description\"}"
   ]
  },
  {
   "cell_type": "markdown",
   "metadata": {},
   "source": [
    "##### This is to render inline"
   ]
  },
  {
   "cell_type": "code",
   "execution_count": 60,
   "metadata": {
    "collapsed": false
   },
   "outputs": [
    {
     "ename": "InvocationException",
     "evalue": "GraphViz's executables not found",
     "output_type": "error",
     "traceback": [
      "\u001b[1;31m---------------------------------------------------------------------------\u001b[0m",
      "\u001b[1;31mInvocationException\u001b[0m                       Traceback (most recent call last)",
      "\u001b[1;32m<ipython-input-60-8044ad4f46e1>\u001b[0m in \u001b[0;36m<module>\u001b[1;34m()\u001b[0m\n\u001b[0;32m      8\u001b[0m \u001b[1;31m##graph = pydot.graph_from_dot_data(dot_data.getvalue())\u001b[0m\u001b[1;33m\u001b[0m\u001b[1;33m\u001b[0m\u001b[0m\n\u001b[0;32m      9\u001b[0m \u001b[1;31m##graph.write_pdf(\"clf_tree.pdf\")\u001b[0m\u001b[1;33m\u001b[0m\u001b[1;33m\u001b[0m\u001b[0m\n\u001b[1;32m---> 10\u001b[1;33m \u001b[0mpydot\u001b[0m\u001b[1;33m.\u001b[0m\u001b[0mgraph_from_dot_data\u001b[0m\u001b[1;33m(\u001b[0m\u001b[0mdot_data\u001b[0m\u001b[1;33m.\u001b[0m\u001b[0mgetvalue\u001b[0m\u001b[1;33m(\u001b[0m\u001b[1;33m)\u001b[0m\u001b[1;33m)\u001b[0m\u001b[1;33m.\u001b[0m\u001b[0mwrite_pdf\u001b[0m\u001b[1;33m(\u001b[0m\u001b[1;34m\"clf_tree2.pdf\"\u001b[0m\u001b[1;33m)\u001b[0m\u001b[1;33m\u001b[0m\u001b[0m\n\u001b[0m\u001b[0;32m     11\u001b[0m \u001b[1;31m#type(graph)\u001b[0m\u001b[1;33m\u001b[0m\u001b[1;33m\u001b[0m\u001b[0m\n\u001b[0;32m     12\u001b[0m \u001b[1;31m#vars(graph)   ## get the attributes of an object \"write_pdf\" is an attribut in a long list\u001b[0m\u001b[1;33m\u001b[0m\u001b[1;33m\u001b[0m\u001b[0m\n",
      "\u001b[1;32m/usr/local/lib/python2.7/dist-packages/pydot.pyc\u001b[0m in \u001b[0;36m<lambda>\u001b[1;34m(path, f, prog)\u001b[0m\n\u001b[0;32m   1807\u001b[0m             self.__setattr__(\n\u001b[0;32m   1808\u001b[0m                 \u001b[1;34m'write_'\u001b[0m\u001b[1;33m+\u001b[0m\u001b[0mfrmt\u001b[0m\u001b[1;33m,\u001b[0m\u001b[1;33m\u001b[0m\u001b[0m\n\u001b[1;32m-> 1809\u001b[1;33m                 lambda path, f=frmt, prog=self.prog : self.write(path, format=f, prog=prog))\n\u001b[0m\u001b[0;32m   1810\u001b[0m \u001b[1;33m\u001b[0m\u001b[0m\n\u001b[0;32m   1811\u001b[0m             \u001b[0mf\u001b[0m \u001b[1;33m=\u001b[0m \u001b[0mself\u001b[0m\u001b[1;33m.\u001b[0m\u001b[0m__dict__\u001b[0m\u001b[1;33m[\u001b[0m\u001b[1;34m'write_'\u001b[0m\u001b[1;33m+\u001b[0m\u001b[0mfrmt\u001b[0m\u001b[1;33m]\u001b[0m\u001b[1;33m\u001b[0m\u001b[0m\n",
      "\u001b[1;32m/usr/local/lib/python2.7/dist-packages/pydot.pyc\u001b[0m in \u001b[0;36mwrite\u001b[1;34m(self, path, prog, format)\u001b[0m\n\u001b[0;32m   1909\u001b[0m             \u001b[0mdot_fd\u001b[0m\u001b[1;33m.\u001b[0m\u001b[0mwrite\u001b[0m\u001b[1;33m(\u001b[0m\u001b[0mdata\u001b[0m\u001b[1;33m)\u001b[0m\u001b[1;33m\u001b[0m\u001b[0m\n\u001b[0;32m   1910\u001b[0m         \u001b[1;32melse\u001b[0m\u001b[1;33m:\u001b[0m\u001b[1;33m\u001b[0m\u001b[0m\n\u001b[1;32m-> 1911\u001b[1;33m             \u001b[0mdot_fd\u001b[0m\u001b[1;33m.\u001b[0m\u001b[0mwrite\u001b[0m\u001b[1;33m(\u001b[0m\u001b[0mself\u001b[0m\u001b[1;33m.\u001b[0m\u001b[0mcreate\u001b[0m\u001b[1;33m(\u001b[0m\u001b[0mprog\u001b[0m\u001b[1;33m,\u001b[0m \u001b[0mformat\u001b[0m\u001b[1;33m)\u001b[0m\u001b[1;33m)\u001b[0m\u001b[1;33m\u001b[0m\u001b[0m\n\u001b[0m\u001b[0;32m   1912\u001b[0m         \u001b[0mdot_fd\u001b[0m\u001b[1;33m.\u001b[0m\u001b[0mclose\u001b[0m\u001b[1;33m(\u001b[0m\u001b[1;33m)\u001b[0m\u001b[1;33m\u001b[0m\u001b[0m\n\u001b[0;32m   1913\u001b[0m \u001b[1;33m\u001b[0m\u001b[0m\n",
      "\u001b[1;32m/usr/local/lib/python2.7/dist-packages/pydot.pyc\u001b[0m in \u001b[0;36mcreate\u001b[1;34m(self, prog, format)\u001b[0m\n\u001b[0;32m   1951\u001b[0m             \u001b[1;32mif\u001b[0m \u001b[0mself\u001b[0m\u001b[1;33m.\u001b[0m\u001b[0mprogs\u001b[0m \u001b[1;32mis\u001b[0m \u001b[0mNone\u001b[0m\u001b[1;33m:\u001b[0m\u001b[1;33m\u001b[0m\u001b[0m\n\u001b[0;32m   1952\u001b[0m                 raise InvocationException(\n\u001b[1;32m-> 1953\u001b[1;33m                     'GraphViz\\'s executables not found' )\n\u001b[0m\u001b[0;32m   1954\u001b[0m \u001b[1;33m\u001b[0m\u001b[0m\n\u001b[0;32m   1955\u001b[0m         \u001b[1;32mif\u001b[0m \u001b[1;32mnot\u001b[0m \u001b[0mself\u001b[0m\u001b[1;33m.\u001b[0m\u001b[0mprogs\u001b[0m\u001b[1;33m.\u001b[0m\u001b[0mhas_key\u001b[0m\u001b[1;33m(\u001b[0m\u001b[0mprog\u001b[0m\u001b[1;33m)\u001b[0m\u001b[1;33m:\u001b[0m\u001b[1;33m\u001b[0m\u001b[0m\n",
      "\u001b[1;31mInvocationException\u001b[0m: GraphViz's executables not found"
     ]
    }
   ],
   "source": [
    "from IPython.display import Image  \n",
    "dot_data = StringIO()  \n",
    "tree.export_graphviz(clf_tree, out_file=dot_data)  \n",
    "                         #feature_names=DescDict['feature_names'],  \n",
    "                        # class_names=DescDict['target_names'],  \n",
    "                         #filled=True, rounded=True,  \n",
    "                         #special_characters=True)  \n",
    "##graph = pydot.graph_from_dot_data(dot_data.getvalue())  \n",
    "##graph.write_pdf(\"clf_tree.pdf\") \n",
    "\n",
    "pydot.graph_from_dot_data(dot_data.getvalue()).write_pdf(\"clf_tree2.pdf\")  ## Same error as the prev 2 statements\n",
    "\n",
    "#type(graph)\n",
    "#vars(graph)   ## get the attributes of an object \"write_pdf\" is an attribut in a long list\n",
    "##vars(gv)\n",
    "#print dot_data.getvalue()\n",
    "#Image(graph.create_png())  "
   ]
  },
  {
   "cell_type": "markdown",
   "metadata": {},
   "source": [
    "##### This is to render into a PDF or other file format for local viewing"
   ]
  },
  {
   "cell_type": "code",
   "execution_count": null,
   "metadata": {
    "collapsed": true
   },
   "outputs": [],
   "source": [
    "from sklearn.externals.six import StringIO  \n",
    ">>> import pydot \n",
    ">>> dot_data = StringIO() \n",
    ">>> tree.export_graphviz(clf, out_file=dot_data) \n",
    ">>> graph = pydot.graph_from_dot_data(dot_data.getvalue()) \n",
    ">>> graph.write_pdf(\"iris.pdf\") "
   ]
  },
  {
   "cell_type": "markdown",
   "metadata": {},
   "source": [
    "##### Create the Classifer object (i.e., clf) using Random Forest "
   ]
  },
  {
   "cell_type": "code",
   "execution_count": 65,
   "metadata": {
    "collapsed": false
   },
   "outputs": [
    {
     "data": {
      "text/plain": [
       "0.8706237278448844"
      ]
     },
     "execution_count": 65,
     "metadata": {},
     "output_type": "execute_result"
    }
   ],
   "source": [
    "## I increased the n_estimators from 10 to 30 and min_samples_split from 1 to 5 and got a couple hundreths of \n",
    "##  improvement\n",
    "clf = RandomForestClassifier(n_estimators=30, max_depth=None, min_samples_split=5, random_state=0)\n",
    "scores = cross_val_score(clf, X, y)\n",
    "scores.mean()    "
   ]
  },
  {
   "cell_type": "code",
   "execution_count": 55,
   "metadata": {
    "collapsed": false
   },
   "outputs": [
    {
     "data": {
      "text/plain": [
       "0.86250301569567123"
      ]
     },
     "execution_count": 55,
     "metadata": {},
     "output_type": "execute_result"
    }
   ],
   "source": [
    "clf = ExtraTreesClassifier(n_estimators=30, max_depth=None, min_samples_split=5, random_state=0)\n",
    "scores = cross_val_score(clf, X, y)\n",
    "scores.mean()   ### > 0.999  this is only a test that will display True or False"
   ]
  },
  {
   "cell_type": "code",
   "execution_count": 66,
   "metadata": {
    "collapsed": true
   },
   "outputs": [],
   "source": [
    "clf = clf.fit(X, y)"
   ]
  },
  {
   "cell_type": "code",
   "execution_count": 67,
   "metadata": {
    "collapsed": false
   },
   "outputs": [],
   "source": [
    "probs = clf.predict_proba(X)"
   ]
  },
  {
   "cell_type": "code",
   "execution_count": 68,
   "metadata": {
    "collapsed": false
   },
   "outputs": [
    {
     "name": "stdout",
     "output_type": "stream",
     "text": [
      "0.998471794246\n"
     ]
    }
   ],
   "source": [
    "print(metrics.roc_auc_score(y, probs[:, 1]))"
   ]
  },
  {
   "cell_type": "code",
   "execution_count": 69,
   "metadata": {
    "collapsed": false
   },
   "outputs": [
    {
     "data": {
      "text/plain": [
       "array([ 0.,  0.,  0., ...,  1.,  1.,  1.])"
      ]
     },
     "execution_count": 69,
     "metadata": {},
     "output_type": "execute_result"
    }
   ],
   "source": [
    "predicted = clf.predict(X)\n",
    "predicted"
   ]
  },
  {
   "cell_type": "code",
   "execution_count": 70,
   "metadata": {
    "collapsed": false
   },
   "outputs": [
    {
     "name": "stdout",
     "output_type": "stream",
     "text": [
      "[[794  25]\n",
      " [ 13 768]]\n"
     ]
    }
   ],
   "source": [
    "print(metrics.confusion_matrix(y, predicted))"
   ]
  },
  {
   "cell_type": "code",
   "execution_count": 76,
   "metadata": {
    "collapsed": false
   },
   "outputs": [
    {
     "data": {
      "text/plain": [
       "array([ 0.        ,  0.01379033,  0.02441829,  0.32694096,  0.00711811,\n",
       "        0.08864295,  0.03533441,  0.0038637 ,  0.11158693,  0.02986293,\n",
       "        0.02192076,  0.01593716,  0.02695996,  0.05461138,  0.01443287,\n",
       "        0.22457926])"
      ]
     },
     "execution_count": 76,
     "metadata": {},
     "output_type": "execute_result"
    }
   ],
   "source": [
    "importances = clf.feature_importances_\n",
    "importances"
   ]
  },
  {
   "cell_type": "code",
   "execution_count": 81,
   "metadata": {
    "collapsed": false
   },
   "outputs": [
    {
     "data": {
      "text/html": [
       "<div>\n",
       "<table border=\"1\" class=\"dataframe\">\n",
       "  <thead>\n",
       "    <tr style=\"text-align: right;\">\n",
       "      <th></th>\n",
       "      <th>0</th>\n",
       "      <th>1</th>\n",
       "    </tr>\n",
       "  </thead>\n",
       "  <tbody>\n",
       "    <tr>\n",
       "      <th>0</th>\n",
       "      <td>Intercept</td>\n",
       "      <td>0.000000</td>\n",
       "    </tr>\n",
       "    <tr>\n",
       "      <th>1</th>\n",
       "      <td>browse_scat_cnt</td>\n",
       "      <td>0.013790</td>\n",
       "    </tr>\n",
       "    <tr>\n",
       "      <th>2</th>\n",
       "      <td>browse_plp_cnt</td>\n",
       "      <td>0.024418</td>\n",
       "    </tr>\n",
       "    <tr>\n",
       "      <th>3</th>\n",
       "      <td>page_view_cnt</td>\n",
       "      <td>0.326941</td>\n",
       "    </tr>\n",
       "    <tr>\n",
       "      <th>4</th>\n",
       "      <td>pd_cmpgn_content_cnt</td>\n",
       "      <td>0.007118</td>\n",
       "    </tr>\n",
       "    <tr>\n",
       "      <th>5</th>\n",
       "      <td>pip_cnt</td>\n",
       "      <td>0.088643</td>\n",
       "    </tr>\n",
       "    <tr>\n",
       "      <th>6</th>\n",
       "      <td>plp_cnt</td>\n",
       "      <td>0.035334</td>\n",
       "    </tr>\n",
       "    <tr>\n",
       "      <th>7</th>\n",
       "      <td>spc_buy</td>\n",
       "      <td>0.003864</td>\n",
       "    </tr>\n",
       "    <tr>\n",
       "      <th>8</th>\n",
       "      <td>acct_sgn_in</td>\n",
       "      <td>0.111587</td>\n",
       "    </tr>\n",
       "    <tr>\n",
       "      <th>9</th>\n",
       "      <td>thumbnail_vw_cnt</td>\n",
       "      <td>0.029863</td>\n",
       "    </tr>\n",
       "    <tr>\n",
       "      <th>10</th>\n",
       "      <td>refind_srch_cnt</td>\n",
       "      <td>0.021921</td>\n",
       "    </tr>\n",
       "    <tr>\n",
       "      <th>11</th>\n",
       "      <td>int_srch_pip_cnt</td>\n",
       "      <td>0.015937</td>\n",
       "    </tr>\n",
       "    <tr>\n",
       "      <th>12</th>\n",
       "      <td>content</td>\n",
       "      <td>0.026960</td>\n",
       "    </tr>\n",
       "    <tr>\n",
       "      <th>13</th>\n",
       "      <td>search_cnt</td>\n",
       "      <td>0.054611</td>\n",
       "    </tr>\n",
       "    <tr>\n",
       "      <th>14</th>\n",
       "      <td>appliances</td>\n",
       "      <td>0.014433</td>\n",
       "    </tr>\n",
       "    <tr>\n",
       "      <th>15</th>\n",
       "      <td>visit_duration</td>\n",
       "      <td>0.224579</td>\n",
       "    </tr>\n",
       "  </tbody>\n",
       "</table>\n",
       "</div>"
      ],
      "text/plain": [
       "                       0         1\n",
       "0              Intercept  0.000000\n",
       "1        browse_scat_cnt  0.013790\n",
       "2         browse_plp_cnt  0.024418\n",
       "3          page_view_cnt  0.326941\n",
       "4   pd_cmpgn_content_cnt  0.007118\n",
       "5                pip_cnt  0.088643\n",
       "6                plp_cnt  0.035334\n",
       "7                spc_buy  0.003864\n",
       "8            acct_sgn_in  0.111587\n",
       "9       thumbnail_vw_cnt  0.029863\n",
       "10       refind_srch_cnt  0.021921\n",
       "11      int_srch_pip_cnt  0.015937\n",
       "12               content  0.026960\n",
       "13            search_cnt  0.054611\n",
       "14            appliances  0.014433\n",
       "15        visit_duration  0.224579"
      ]
     },
     "execution_count": 81,
     "metadata": {},
     "output_type": "execute_result"
    }
   ],
   "source": [
    "pd.DataFrame(list(zip(X.columns, np.transpose(importances))))    ## adds to 1\n",
    "#params = clf.get_params(deep=True)   ## This is a list of the parameters for the classifier function\n",
    "#params"
   ]
  },
  {
   "cell_type": "markdown",
   "metadata": {},
   "source": [
    "### <u>Output Options (In Development)</u>\n",
    "#####  <hr>  </hr> "
   ]
  },
  {
   "cell_type": "code",
   "execution_count": null,
   "metadata": {
    "collapsed": true
   },
   "outputs": [],
   "source": [
    "import gcp\n",
    "import gcp.storage as storage\n",
    "import gcp.bigquery as bq\n",
    "import pandas as pd"
   ]
  },
  {
   "cell_type": "markdown",
   "metadata": {},
   "source": [
    "##### Create a BigQuery table for the ADS (this works) "
   ]
  },
  {
   "cell_type": "code",
   "execution_count": null,
   "metadata": {
    "collapsed": false
   },
   "outputs": [],
   "source": [
    "ads = bq.DataSet('ClickADS2')  # First, create the dataset.... this is not the table !\n",
    "ads.create(friendly_name = 'ClickStream ADS', description = 'ADS created from Sample Omniture data')\n",
    "ads.exists()\n",
    "\n",
    "bigquery_dataset_name = 'ClickADS2'\n",
    "bigquery_table_name = 'ADS_Logit1'\n",
    "\n",
    "# Define BigQuery dataset and table\n",
    "dataset = bq.DataSet(bigquery_dataset_name)\n",
    "table = bq.Table(bigquery_dataset_name + '.' + bigquery_table_name)\n",
    "\n",
    "# Create or overwrite the existing table if it exists\n",
    "table_schema = bq.Schema.from_dataframe(out)\n",
    "table.create(schema = table_schema, overwrite = True)\n",
    "\n",
    "# Write the DataFrame to a BigQuery table\n",
    "table.insert_data(out)"
   ]
  },
  {
   "cell_type": "code",
   "execution_count": null,
   "metadata": {
    "collapsed": false
   },
   "outputs": [],
   "source": [
    "print(table_schema)"
   ]
  },
  {
   "cell_type": "markdown",
   "metadata": {},
   "source": [
    "-------------------------------\n",
    "### In Development\n",
    "-------------------------------"
   ]
  },
  {
   "cell_type": "markdown",
   "metadata": {},
   "source": [
    "### Different write functions into the VM Files System or GCS for audit and/or persistent storage "
   ]
  },
  {
   "cell_type": "markdown",
   "metadata": {},
   "source": [
    "##### Create a bucket in GCS and either write from the Python DataFrame or write to this bucket from the VM (see below)\n",
    "#####  (This works)"
   ]
  },
  {
   "cell_type": "code",
   "execution_count": null,
   "metadata": {
    "collapsed": true
   },
   "outputs": [],
   "source": [
    "import gcp\n",
    "import gcp.storage as storage\n",
    "from StringIO import StringIO"
   ]
  },
  {
   "cell_type": "code",
   "execution_count": null,
   "metadata": {
    "collapsed": false
   },
   "outputs": [],
   "source": [
    "project = gcp.Context.default().project_id   # correct Project ID is found\n",
    "bucket_name = 'steve-temp2'           ## .... or can create a new bucket using the bucket.create() below\n",
    "bucket_path  = 'gs://' + bucket_name   \n",
    "bucket_object = bucket_path + '/out.csv'\n",
    "#bucket_object = bucket_path + '/out2.csv'\n",
    "bucket = storage.Bucket(bucket_name)\n",
    "\n",
    "# Create the bucket if it doesn't exist\n",
    "if not bucket.exists():\n",
    "  bucket.create()\n",
    "\n",
    "bucket  ## This command will display the bucket name  \n",
    "# The name of the bucket is:  gs://steve-temp2\n",
    "\n",
    "bucket.exists()\n",
    "# Confirmed created in GCS both with a visual inspection and a \"True\" result from the this function\n",
    "#bucket_path\n",
    "#bucket_object"
   ]
  },
  {
   "cell_type": "markdown",
   "metadata": {},
   "source": [
    "##### Use the line command storage magic to write to GCS"
   ]
  },
  {
   "cell_type": "code",
   "execution_count": null,
   "metadata": {
    "collapsed": false
   },
   "outputs": [],
   "source": [
    "%storage write --variable out --object $bucket_object"
   ]
  },
  {
   "cell_type": "markdown",
   "metadata": {},
   "source": [
    "##### Write out the ADS dataframe above to the VM file system ( This worked )"
   ]
  },
  {
   "cell_type": "code",
   "execution_count": null,
   "metadata": {
    "collapsed": true
   },
   "outputs": [],
   "source": [
    "out.to_csv(\"ads_out2.csv\", encoding='utf-8', columns=out.columns.values.tolist()) "
   ]
  },
  {
   "cell_type": "code",
   "execution_count": null,
   "metadata": {
    "collapsed": false
   },
   "outputs": [],
   "source": [
    "# Write the file to the storage bucket\n",
    "#file = bucket.item('ads_out2.csv')\n",
    "file\n",
    "##file.write_to(bucket)"
   ]
  },
  {
   "cell_type": "markdown",
   "metadata": {},
   "source": [
    "##### This shells out to the VM and executes the gsutil ( This works )"
   ]
  },
  {
   "cell_type": "code",
   "execution_count": null,
   "metadata": {
    "collapsed": true
   },
   "outputs": [],
   "source": [
    "%%bash\n",
    "##gsutil cp -r /content/steven_einbender@homedepot.com gs://steve-temp2\n",
    "gsutil cp /content/steven_einbender@homedepot.com/ads_out2.csv  gs://steve-temp"
   ]
  },
  {
   "cell_type": "markdown",
   "metadata": {},
   "source": [
    "##### Read from GC Storage and create a Python DataFrame (This works and retains the schema from the .to_csv above)"
   ]
  },
  {
   "cell_type": "code",
   "execution_count": null,
   "metadata": {
    "collapsed": false
   },
   "outputs": [],
   "source": [
    "gcs_ads_in = storage.Item('steve-temp','ads_out2.csv').read_from()\n",
    "#The following will just display the file contents as a continuous string. Str is the object type\n",
    "#gcs_ads_in\n",
    "ads_df = pd.read_csv(StringIO(gcs_ads_in))\n",
    "#type(ads_df)  #This is now a DataFrame\n",
    "#ads_df"
   ]
  },
  {
   "cell_type": "markdown",
   "metadata": {},
   "source": [
    "##### Read from GC Storage and create a Python DataFrame ( This works too but was schema-less from the %storage write above )"
   ]
  },
  {
   "cell_type": "code",
   "execution_count": null,
   "metadata": {
    "collapsed": false
   },
   "outputs": [],
   "source": [
    "gcs_ads2_in = storage.Item('steve-temp2','out.csv').read_from()\n",
    "ads2_df = pd.read_csv(StringIO(gcs_ads2_in))\n",
    "#type(ads2_df)  #This is now a DataFrame\n",
    "#ads2_df"
   ]
  },
  {
   "cell_type": "code",
   "execution_count": null,
   "metadata": {
    "collapsed": false
   },
   "outputs": [],
   "source": [
    "#ads2_df.ix[:3,['browse_plp_cnt']]\n",
    "#pdsql(\"SELECT * FROM ads2_df limit 5;\",locals())\n",
    "#%storage view --object $bucket_object"
   ]
  },
  {
   "cell_type": "markdown",
   "metadata": {},
   "source": [
    " "
   ]
  },
  {
   "cell_type": "markdown",
   "metadata": {},
   "source": [
    "##### The following two both work and produce the same result"
   ]
  },
  {
   "cell_type": "code",
   "execution_count": null,
   "metadata": {
    "collapsed": false
   },
   "outputs": [],
   "source": [
    "##list(bucket.items())  ## This can be a long list"
   ]
  },
  {
   "cell_type": "code",
   "execution_count": null,
   "metadata": {
    "collapsed": false
   },
   "outputs": [],
   "source": [
    "##%%storage list --bucket $bucket_path"
   ]
  },
  {
   "cell_type": "markdown",
   "metadata": {},
   "source": [
    "##### This lists all files in the parent specified"
   ]
  },
  {
   "cell_type": "code",
   "execution_count": null,
   "metadata": {
    "collapsed": false
   },
   "outputs": [],
   "source": [
    "##%%storage list  --bucket gs://steve-temp   "
   ]
  },
  {
   "cell_type": "markdown",
   "metadata": {},
   "source": [
    "##### Other development"
   ]
  },
  {
   "cell_type": "code",
   "execution_count": null,
   "metadata": {
    "collapsed": false
   },
   "outputs": [],
   "source": [
    "#bucket_object = bucket_path + '/ClickSample_out1.csv'\n",
    "#bucket_object2 = bucket_path + '/ClickSample_out1.csv'\n",
    "#bucket = storage.Bucket(bucket_path)\n",
    "#bucket.create()\n",
    "\n",
    "#bucket.exists()\n",
    "#project\n",
    "bucket_path"
   ]
  },
  {
   "cell_type": "code",
   "execution_count": null,
   "metadata": {
    "collapsed": false
   },
   "outputs": [],
   "source": [
    "##%%bash\n",
    "##gsutil cp 'ads_out1.csv' \n",
    "\n",
    "\n",
    "#print(project)\n",
    "#print(bucket_name)\n",
    "#print('bucket path is:', bucket_path)\n",
    "#print('bucket object/table is:', bucket_object)"
   ]
  },
  {
   "cell_type": "code",
   "execution_count": null,
   "metadata": {
    "collapsed": true
   },
   "outputs": [],
   "source": [
    "#bucket_item = bucket.item('ClickSample_out1.csv')\n",
    "#%storage write -h\n",
    "#%storage write --variable CR_merge --object $bucket_object\n",
    "#type(bucket_item)\n",
    "#print(bucket_item)\n",
    "#bucket_item.exists()\n",
    "#list(bucket_item.items())"
   ]
  },
  {
   "cell_type": "markdown",
   "metadata": {},
   "source": [
    "##### Execute CLI commands in the VM"
   ]
  },
  {
   "cell_type": "code",
   "execution_count": null,
   "metadata": {
    "collapsed": false
   },
   "outputs": [],
   "source": [
    "%%bash\n",
    "ls -al\n",
    "pwd\n",
    "head ClickSample_out1.csv"
   ]
  }
 ],
 "metadata": {
  "kernelspec": {
   "display_name": "Python 2",
   "language": "python",
   "name": "python2"
  },
  "language_info": {
   "codemirror_mode": {
    "name": "ipython",
    "version": 2
   },
   "file_extension": ".py",
   "mimetype": "text/x-python",
   "name": "python",
   "nbconvert_exporter": "python",
   "pygments_lexer": "ipython2",
   "version": "2.7.9"
  }
 },
 "nbformat": 4,
 "nbformat_minor": 0
}
